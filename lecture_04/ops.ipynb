{
 "cells": [
  {
   "cell_type": "code",
   "execution_count": 1,
   "metadata": {},
   "outputs": [],
   "source": [
    "import numpy as np\n",
    "import matplotlib.pyplot as plt"
   ]
  },
  {
   "cell_type": "code",
   "execution_count": 9,
   "metadata": {},
   "outputs": [],
   "source": [
    "arr1 = np.random.randint(0, 10, 50).reshape(-1, 5)"
   ]
  },
  {
   "cell_type": "code",
   "execution_count": 10,
   "metadata": {},
   "outputs": [],
   "source": [
    "arr2 = np.random.randint(0, 10, 50).reshape(-1, 5)"
   ]
  },
  {
   "cell_type": "markdown",
   "metadata": {},
   "source": [
    "## ndarr ops"
   ]
  },
  {
   "cell_type": "code",
   "execution_count": 16,
   "metadata": {},
   "outputs": [
    {
     "data": {
      "text/plain": [
       "array([[ 8,  5,  8, 14,  5],\n",
       "       [ 3,  3,  7,  3, 13],\n",
       "       [ 6, 13,  9,  6, 10],\n",
       "       [10, 13,  4,  7, 16],\n",
       "       [10, 10,  9,  3, 15],\n",
       "       [ 2,  7,  6, 11,  3],\n",
       "       [ 3, 14,  4,  9,  8],\n",
       "       [16, 17,  9,  4,  3],\n",
       "       [16,  5, 11, 14,  1],\n",
       "       [ 9, 11, 12, 11, 12]])"
      ]
     },
     "execution_count": 16,
     "metadata": {},
     "output_type": "execute_result"
    }
   ],
   "source": [
    "arr1 + arr2"
   ]
  },
  {
   "cell_type": "markdown",
   "metadata": {},
   "source": [
    "## broadcasting"
   ]
  },
  {
   "cell_type": "code",
   "execution_count": 22,
   "metadata": {},
   "outputs": [
    {
     "data": {
      "text/plain": [
       "array([[8, 2, 6, 9, 5],\n",
       "       [2, 1, 7, 1, 9],\n",
       "       [6, 6, 5, 1, 8],\n",
       "       [8, 5, 3, 1, 7],\n",
       "       [6, 2, 1, 3, 6],\n",
       "       [1, 2, 0, 8, 0],\n",
       "       [0, 8, 0, 2, 5],\n",
       "       [7, 8, 4, 0, 3],\n",
       "       [9, 3, 2, 5, 1],\n",
       "       [8, 2, 4, 3, 3]])"
      ]
     },
     "execution_count": 22,
     "metadata": {},
     "output_type": "execute_result"
    }
   ],
   "source": [
    "arr1"
   ]
  },
  {
   "cell_type": "code",
   "execution_count": 19,
   "metadata": {},
   "outputs": [],
   "source": [
    "# for item in arr1:\n",
    "#     print(item.shape)"
   ]
  },
  {
   "cell_type": "code",
   "execution_count": 20,
   "metadata": {},
   "outputs": [
    {
     "data": {
      "text/plain": [
       "array([[18, 12, 16, 19, 15],\n",
       "       [12, 11, 17, 11, 19],\n",
       "       [16, 16, 15, 11, 18],\n",
       "       [18, 15, 13, 11, 17],\n",
       "       [16, 12, 11, 13, 16],\n",
       "       [11, 12, 10, 18, 10],\n",
       "       [10, 18, 10, 12, 15],\n",
       "       [17, 18, 14, 10, 13],\n",
       "       [19, 13, 12, 15, 11],\n",
       "       [18, 12, 14, 13, 13]])"
      ]
     },
     "execution_count": 20,
     "metadata": {},
     "output_type": "execute_result"
    }
   ],
   "source": [
    "arr1 + 10"
   ]
  },
  {
   "cell_type": "code",
   "execution_count": 31,
   "metadata": {},
   "outputs": [
    {
     "data": {
      "text/plain": [
       "array([[ 8,  3,  8, 12,  9],\n",
       "       [ 2,  2,  9,  4, 13],\n",
       "       [ 6,  7,  7,  4, 12],\n",
       "       [ 8,  6,  5,  4, 11],\n",
       "       [ 6,  3,  3,  6, 10],\n",
       "       [ 1,  3,  2, 11,  4],\n",
       "       [ 0,  9,  2,  5,  9],\n",
       "       [ 7,  9,  6,  3,  7],\n",
       "       [ 9,  4,  4,  8,  5],\n",
       "       [ 8,  3,  6,  6,  7]])"
      ]
     },
     "execution_count": 31,
     "metadata": {},
     "output_type": "execute_result"
    }
   ],
   "source": [
    "arr1 + np.arange(5)"
   ]
  },
  {
   "cell_type": "code",
   "execution_count": 29,
   "metadata": {},
   "outputs": [
    {
     "data": {
      "text/plain": [
       "array([[256.,   4.,  64., 512.,  32.],\n",
       "       [  4.,   2., 128.,   2., 512.],\n",
       "       [ 64.,  64.,  32.,   2., 256.],\n",
       "       [256.,  32.,   8.,   2., 128.],\n",
       "       [ 64.,   4.,   2.,   8.,  64.],\n",
       "       [  2.,   4.,   1., 256.,   1.],\n",
       "       [  1., 256.,   1.,   4.,  32.],\n",
       "       [128., 256.,  16.,   1.,   8.],\n",
       "       [512.,   8.,   4.,  32.,   2.],\n",
       "       [256.,   4.,  16.,   8.,   8.]])"
      ]
     },
     "execution_count": 29,
     "metadata": {},
     "output_type": "execute_result"
    }
   ],
   "source": [
    "np.exp2(arr1)"
   ]
  },
  {
   "cell_type": "code",
   "execution_count": null,
   "metadata": {},
   "outputs": [],
   "source": []
  },
  {
   "cell_type": "code",
   "execution_count": 34,
   "metadata": {},
   "outputs": [
    {
     "data": {
      "text/plain": [
       "array([ 1,  2,  3,  4,  5,  6,  7,  8,  9, 10])"
      ]
     },
     "execution_count": 34,
     "metadata": {},
     "output_type": "execute_result"
    }
   ],
   "source": [
    "np.linspace(1, 10, 10, dtype=int)"
   ]
  },
  {
   "cell_type": "code",
   "execution_count": null,
   "metadata": {},
   "outputs": [],
   "source": []
  },
  {
   "cell_type": "code",
   "execution_count": 35,
   "metadata": {},
   "outputs": [
    {
     "data": {
      "text/plain": [
       "3.141592653589793"
      ]
     },
     "execution_count": 35,
     "metadata": {},
     "output_type": "execute_result"
    }
   ],
   "source": [
    "np.pi"
   ]
  },
  {
   "cell_type": "code",
   "execution_count": null,
   "metadata": {},
   "outputs": [],
   "source": [
    "x = np.linspace(-np.pi, np.pi, 200)\n",
    "\n",
    "y = np.sin(x)"
   ]
  },
  {
   "cell_type": "code",
   "execution_count": 49,
   "metadata": {},
   "outputs": [
    {
     "data": {
      "text/plain": [
       "[<matplotlib.lines.Line2D at 0x117a55438>]"
      ]
     },
     "execution_count": 49,
     "metadata": {},
     "output_type": "execute_result"
    },
    {
     "data": {
      "image/png": "[encoded data removed]",
      "text/plain": [
       "<Figure size 432x288 with 1 Axes>"
      ]
     },
     "metadata": {
      "needs_background": "light"
     },
     "output_type": "display_data"
    }
   ],
   "source": [
    "plt.plot(x, y)"
   ]
  },
  {
   "cell_type": "code",
   "execution_count": 56,
   "metadata": {},
   "outputs": [
    {
     "data": {
      "text/plain": [
       "(-20, 20)"
      ]
     },
     "execution_count": 56,
     "metadata": {},
     "output_type": "execute_result"
    },
    {
     "data": {
      "image/png": "[encoded data removed]",
      "text/plain": [
       "<Figure size 432x288 with 1 Axes>"
      ]
     },
     "metadata": {
      "needs_background": "light"
     },
     "output_type": "display_data"
    }
   ],
   "source": [
    "plt.plot(x, np.tan(x))\n",
    "plt.ylim(-20, 20)"
   ]
  },
  {
   "cell_type": "code",
   "execution_count": 14,
   "metadata": {},
   "outputs": [],
   "source": [
    "img = (np.arange(10000) % 256).reshape(100, 100)"
   ]
  },
  {
   "cell_type": "code",
   "execution_count": 16,
   "metadata": {},
   "outputs": [
    {
     "data": {
      "text/plain": [
       "<matplotlib.image.AxesImage at 0x10ddfbcc0>"
      ]
     },
     "execution_count": 16,
     "metadata": {},
     "output_type": "execute_result"
    },
    {
     "data": {
      "image/png": "[encoded data removed]",
      "text/plain": [
       "<Figure size 432x288 with 1 Axes>"
      ]
     },
     "metadata": {
      "needs_background": "light"
     },
     "output_type": "display_data"
    }
   ],
   "source": [
    "plt.imshow(img / 256, cmap=\"gray\")"
   ]
  },
  {
   "cell_type": "code",
   "execution_count": 18,
   "metadata": {},
   "outputs": [
    {
     "data": {
      "text/plain": [
       "dtype('float64')"
      ]
     },
     "execution_count": 18,
     "metadata": {},
     "output_type": "execute_result"
    }
   ],
   "source": [
    "(img / 256).dtype"
   ]
  },
  {
   "cell_type": "code",
   "execution_count": 19,
   "metadata": {},
   "outputs": [
    {
     "data": {
      "text/plain": [
       "dtype('int64')"
      ]
     },
     "execution_count": 19,
     "metadata": {},
     "output_type": "execute_result"
    }
   ],
   "source": [
    "img.dtype"
   ]
  },
  {
   "cell_type": "code",
   "execution_count": 51,
   "metadata": {},
   "outputs": [
    {
     "data": {
      "text/plain": [
       "<matplotlib.image.AxesImage at 0x10f3d29e8>"
      ]
     },
     "execution_count": 51,
     "metadata": {},
     "output_type": "execute_result"
    },
    {
     "data": {
      "image/png": "[encoded data removed]",
      "text/plain": [
       "<Figure size 432x288 with 1 Axes>"
      ]
     },
     "metadata": {
      "needs_background": "light"
     },
     "output_type": "display_data"
    }
   ],
   "source": [
    "x = np.linspace(-np.pi, np.pi, 200)\n",
    "y = np.sin(x)\n",
    "# y = np.abs(y)\n",
    "# plt.plot(x, y)\n",
    "img = np.zeros([200, 200])\n",
    "img = img + y\n",
    "plt.imshow(img, cmap=\"gray\")"
   ]
  },
  {
   "cell_type": "code",
   "execution_count": 50,
   "metadata": {},
   "outputs": [
    {
     "data": {
      "text/plain": [
       "array([  0,   8,  16,  24,  32,  40,  48,  55,  63,  71,  79,  86,  94,\n",
       "       101, 109, 116, 123, 130, 137, 143, 150, 156, 163, 169, 175, 181,\n",
       "       186, 191, 197, 202, 207, 211, 215, 220, 224, 227, 231, 234, 237,\n",
       "       240, 243, 245, 247, 249, 250, 252, 253, 254, 254, 254, 254, 254,\n",
       "       254, 253, 252, 251, 250, 248, 246, 244, 241, 239, 236, 233, 229,\n",
       "       226, 222, 218, 213, 209, 204, 199, 194, 189, 183, 178, 172, 166,\n",
       "       160, 153, 147, 140, 133, 126, 119, 112, 105,  98,  90,  82,  75,\n",
       "        67,  59,  51,  44,  36,  28,  20,  12,   4,   4,  12,  20,  28,\n",
       "        36,  44,  51,  59,  67,  75,  82,  90,  98, 105, 112, 119, 126,\n",
       "       133, 140, 147, 153, 160, 166, 172, 178, 183, 189, 194, 199, 204,\n",
       "       209, 213, 218, 222, 226, 229, 233, 236, 239, 241, 244, 246, 248,\n",
       "       250, 251, 252, 253, 254, 254, 254, 254, 254, 254, 253, 252, 250,\n",
       "       249, 247, 245, 243, 240, 237, 234, 231, 227, 224, 220, 215, 211,\n",
       "       207, 202, 197, 191, 186, 181, 175, 169, 163, 156, 150, 143, 137,\n",
       "       130, 123, 116, 109, 101,  94,  86,  79,  71,  63,  55,  48,  40,\n",
       "        32,  24,  16,   8,   0])"
      ]
     },
     "execution_count": 50,
     "metadata": {},
     "output_type": "execute_result"
    }
   ],
   "source": [
    "(y * 255).astype(int)"
   ]
  },
  {
   "cell_type": "code",
   "execution_count": null,
   "metadata": {},
   "outputs": [],
   "source": []
  },
  {
   "cell_type": "code",
   "execution_count": null,
   "metadata": {},
   "outputs": [],
   "source": []
  },
  {
   "cell_type": "code",
   "execution_count": 52,
   "metadata": {},
   "outputs": [],
   "source": [
    "def distance(origin, point):\n",
    "    return np.sqrt(np.sum((origin - point) ** 2))"
   ]
  },
  {
   "cell_type": "code",
   "execution_count": 56,
   "metadata": {},
   "outputs": [],
   "source": [
    "img = np.zeros([200, 200])\n",
    "origin = np.array([100, 100])\n",
    "for row in range(200):\n",
    "    for col in range(200):\n",
    "        img[row, col] = distance(origin, np.array([row, col])) % 10"
   ]
  },
  {
   "cell_type": "code",
   "execution_count": 57,
   "metadata": {},
   "outputs": [
    {
     "data": {
      "text/plain": [
       "<matplotlib.image.AxesImage at 0x10f5d1da0>"
      ]
     },
     "execution_count": 57,
     "metadata": {},
     "output_type": "execute_result"
    },
    {
     "data": {
      "image/png": "[encoded data removed]",
      "text/plain": [
       "<Figure size 432x288 with 1 Axes>"
      ]
     },
     "metadata": {
      "needs_background": "light"
     },
     "output_type": "display_data"
    }
   ],
   "source": [
    "plt.imshow(img, cmap=\"gray\")"
   ]
  },
  {
   "cell_type": "code",
   "execution_count": null,
   "metadata": {},
   "outputs": [],
   "source": []
  }
 ],
 "metadata": {
  "kernelspec": {
   "display_name": "Python 3",
   "language": "python",
   "name": "python3"
  },
  "language_info": {
   "codemirror_mode": {
    "name": "ipython",
    "version": 3
   },
   "file_extension": ".py",
   "mimetype": "text/x-python",
   "name": "python",
   "nbconvert_exporter": "python",
   "pygments_lexer": "ipython3",
   "version": "3.7.2"
  }
 },
 "nbformat": 4,
 "nbformat_minor": 2
}
