{
 "cells": [
  {
   "cell_type": "code",
   "execution_count": 1,
   "metadata": {},
   "outputs": [],
   "source": [
    "from gensim.models import Word2Vec\n",
    "from nltk.tokenize import sent_tokenize"
   ]
  },
  {
   "cell_type": "code",
   "execution_count": 2,
   "metadata": {},
   "outputs": [],
   "source": [
    "with open(\"../datasets/speeches/speech.txt\", encoding=\"utf8\") as f:\n",
    "    text = f.read()"
   ]
  },
  {
   "cell_type": "code",
   "execution_count": 3,
   "metadata": {},
   "outputs": [],
   "source": [
    "text = text.replace(\"\\n\", \". \")"
   ]
  },
  {
   "cell_type": "code",
   "execution_count": 4,
   "metadata": {},
   "outputs": [],
   "source": [
    "sents = sent_tokenize(text)"
   ]
  },
  {
   "cell_type": "code",
   "execution_count": 10,
   "metadata": {},
   "outputs": [],
   "source": [
    "model = Word2Vec()"
   ]
  },
  {
   "cell_type": "code",
   "execution_count": 13,
   "metadata": {},
   "outputs": [
    {
     "data": {
      "text/plain": [
       "\u001b[0;31mSignature:\u001b[0m\n",
       "\u001b[0mmodel\u001b[0m\u001b[0;34m.\u001b[0m\u001b[0mmost_similar\u001b[0m\u001b[0;34m(\u001b[0m\u001b[0;34m\u001b[0m\n",
       "\u001b[0;34m\u001b[0m    \u001b[0;34m[\u001b[0m\u001b[0;34m'positive=None'\u001b[0m\u001b[0;34m,\u001b[0m \u001b[0;34m'negative=None'\u001b[0m\u001b[0;34m,\u001b[0m \u001b[0;34m'topn=10'\u001b[0m\u001b[0;34m,\u001b[0m \u001b[0;34m'restrict_vocab=None'\u001b[0m\u001b[0;34m,\u001b[0m \u001b[0;34m'indexer=None'\u001b[0m\u001b[0;34m]\u001b[0m\u001b[0;34m,\u001b[0m\u001b[0;34m\u001b[0m\n",
       "\u001b[0;34m\u001b[0m\u001b[0;34m)\u001b[0m\u001b[0;34m\u001b[0m\u001b[0;34m\u001b[0m\u001b[0m\n",
       "\u001b[0;31mDocstring:\u001b[0m\n",
       "Deprecated, use self.wv.most_similar() instead.\n",
       "\n",
       "Refer to the documentation for :meth:`~gensim.models.keyedvectors.WordEmbeddingsKeyedVectors.most_similar`.\n",
       "\u001b[0;31mFile:\u001b[0m      /usr/local/lib/python3.7/site-packages/gensim/models/base_any2vec.py\n",
       "\u001b[0;31mType:\u001b[0m      method\n"
      ]
     },
     "metadata": {},
     "output_type": "display_data"
    }
   ],
   "source": [
    "model.most_similar"
   ]
  },
  {
   "cell_type": "code",
   "execution_count": 9,
   "metadata": {},
   "outputs": [
    {
     "name": "stderr",
     "output_type": "stream",
     "text": [
      "/usr/local/lib/python3.7/site-packages/ipykernel_launcher.py:1: DeprecationWarning: Call to deprecated `__getitem__` (Method will be removed in 4.0.0, use self.wv.__getitem__() instead).\n",
      "  \"\"\"Entry point for launching an IPython kernel.\n"
     ]
    },
    {
     "data": {
      "text/plain": [
       "array([-0.21211343, -0.53266037, -0.16561843, -0.20014991, -0.11729625,\n",
       "       -0.27897015, -0.48126364, -0.02581269, -0.35449713,  0.289043  ,\n",
       "       -0.36709243, -0.25658357, -0.09810183, -0.50313556,  0.23016398,\n",
       "        0.0487341 , -0.58289844,  0.01497241,  0.4516122 ,  0.05948777,\n",
       "        0.04532666, -0.32282382,  0.40833798, -0.11760244,  0.431681  ,\n",
       "        1.3918035 ,  0.34545818, -0.23257579,  0.21211529,  0.22866587,\n",
       "        0.20340915, -0.06436159, -0.24476428,  0.37170115, -0.25208852,\n",
       "        0.47226575, -0.16601531,  0.2758857 , -0.7537891 , -0.56429285,\n",
       "       -0.58227307,  0.32013044,  0.19232969, -0.3027405 ,  0.21784417,\n",
       "        0.35050893, -0.11807533,  0.36163577,  0.5376431 , -0.30445275,\n",
       "       -0.00958849,  0.35022935,  0.07549213,  0.28152904,  0.12905528,\n",
       "        0.1787036 ,  0.17072092,  0.04928518,  0.10487296,  0.5029532 ,\n",
       "        0.13311684,  0.27825916, -0.10206201, -0.47061005,  0.02429145,\n",
       "        0.17393522,  0.46564087,  0.44704401, -0.6021598 , -0.7732318 ,\n",
       "        0.05302132,  0.06397819, -0.58110243,  0.16755266, -0.3312357 ,\n",
       "        0.11551598, -0.25374073,  0.26213297, -0.07245178,  0.41532478,\n",
       "        0.22645515,  1.152567  ,  0.5404803 ,  0.18350466,  0.5150901 ,\n",
       "       -0.31021264,  0.60618883, -0.05815779, -0.25771168,  0.00146513,\n",
       "       -0.12471361,  0.96457934, -0.405125  , -0.35677335, -0.15223289,\n",
       "        0.30978855,  0.24487777, -0.15870023, -0.22773351,  0.2872202 ],\n",
       "      dtype=float32)"
      ]
     },
     "execution_count": 9,
     "metadata": {},
     "output_type": "execute_result"
    }
   ],
   "source": [
    "model[\"n\"]"
   ]
  },
  {
   "cell_type": "code",
   "execution_count": null,
   "metadata": {},
   "outputs": [],
   "source": []
  }
 ],
 "metadata": {
  "kernelspec": {
   "display_name": "Python 3",
   "language": "python",
   "name": "python3"
  },
  "language_info": {
   "codemirror_mode": {
    "name": "ipython",
    "version": 3
   },
   "file_extension": ".py",
   "mimetype": "text/x-python",
   "name": "python",
   "nbconvert_exporter": "python",
   "pygments_lexer": "ipython3",
   "version": "3.7.2"
  }
 },
 "nbformat": 4,
 "nbformat_minor": 4
}
