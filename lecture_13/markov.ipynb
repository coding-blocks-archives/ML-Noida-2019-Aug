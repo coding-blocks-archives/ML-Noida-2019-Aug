{
 "cells": [
  {
   "cell_type": "code",
   "execution_count": 23,
   "metadata": {},
   "outputs": [],
   "source": [
    "import random"
   ]
  },
  {
   "cell_type": "code",
   "execution_count": 6,
   "metadata": {},
   "outputs": [],
   "source": [
    "with open(\"../datasets/speeches/speech.txt\") as speech:\n",
    "    text = speech.read()"
   ]
  },
  {
   "cell_type": "code",
   "execution_count": 36,
   "metadata": {},
   "outputs": [],
   "source": [
    "k = 10\n",
    "words = {}\n",
    "\n",
    "for i in range(len(text) - k - 1):\n",
    "    text_slice = text[i:i+k]\n",
    "    next_char = text[i+k]\n",
    "    \n",
    "    if text_slice not in words:\n",
    "        words[text_slice] = {}\n",
    "    \n",
    "    if next_char not in words[text_slice]:\n",
    "        words[text_slice][next_char] = 0\n",
    "        \n",
    "    words[text_slice][next_char] +=1\n"
   ]
  },
  {
   "cell_type": "code",
   "execution_count": 37,
   "metadata": {},
   "outputs": [],
   "source": [
    "# words"
   ]
  },
  {
   "cell_type": "code",
   "execution_count": 40,
   "metadata": {},
   "outputs": [],
   "source": [
    "greeting = \"As many of you know\""
   ]
  },
  {
   "cell_type": "code",
   "execution_count": 41,
   "metadata": {},
   "outputs": [],
   "source": [
    "for i in range(500):\n",
    "    cut = greeting[-k:]    \n",
    "    famous = sorted(words[cut].items(), key=lambda x: x[1])[-3:]\n",
    "    char = random.choice(famous)[0]\n",
    "    greeting += char"
   ]
  },
  {
   "cell_type": "code",
   "execution_count": 42,
   "metadata": {},
   "outputs": [
    {
     "name": "stdout",
     "output_type": "stream",
     "text": [
      "As many of you know some one among those initiative in each block of India in a bigger job market  for our youth. The world’s population, but my dear friends in adverse situations\n",
      "• and delays in project implement it. \n",
      "We hope advanced countries.\n",
      "This is true that our two cultures to rejuvenation and structure, especially its Security and special. This unites us: it is our responsible. We perceive that through aligning developed, tourism and its sanctity of the priorities and coastline and more sustainably. Our cu\n"
     ]
    }
   ],
   "source": [
    "print(greeting)"
   ]
  },
  {
   "cell_type": "code",
   "execution_count": null,
   "metadata": {},
   "outputs": [],
   "source": []
  }
 ],
 "metadata": {
  "kernelspec": {
   "display_name": "Python 3",
   "language": "python",
   "name": "python3"
  },
  "language_info": {
   "codemirror_mode": {
    "name": "ipython",
    "version": 3
   },
   "file_extension": ".py",
   "mimetype": "text/x-python",
   "name": "python",
   "nbconvert_exporter": "python",
   "pygments_lexer": "ipython3",
   "version": "3.7.2"
  }
 },
 "nbformat": 4,
 "nbformat_minor": 4
}
