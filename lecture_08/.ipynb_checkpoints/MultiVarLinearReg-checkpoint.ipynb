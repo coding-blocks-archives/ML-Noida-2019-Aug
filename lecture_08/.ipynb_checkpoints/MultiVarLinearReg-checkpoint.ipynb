{
 "cells": [
  {
   "cell_type": "code",
   "execution_count": 1,
   "metadata": {},
   "outputs": [],
   "source": [
    "import numpy as np\n",
    "import matplotlib.pyplot as plt\n",
    "from sklearn.datasets import make_regression"
   ]
  },
  {
   "cell_type": "code",
   "execution_count": 193,
   "metadata": {},
   "outputs": [],
   "source": [
    "bias = -1000\n",
    "\n",
    "X, y, coef= make_regression(n_samples=1000, n_features=10, noise=10, bias=bias, random_state=42, coef=True)"
   ]
  },
  {
   "cell_type": "code",
   "execution_count": 194,
   "metadata": {},
   "outputs": [
    {
     "data": {
      "text/plain": [
       "(1000, 10)"
      ]
     },
     "execution_count": 194,
     "metadata": {},
     "output_type": "execute_result"
    }
   ],
   "source": [
    "X.shape"
   ]
  },
  {
   "cell_type": "code",
   "execution_count": 195,
   "metadata": {},
   "outputs": [],
   "source": [
    "class LinearRegCustom:\n",
    "    \n",
    "    def __init__(self, lr=.1):\n",
    "        self.lr = lr\n",
    "        \n",
    "    def fit(self, X, y):\n",
    "        \n",
    "        self.__X = X\n",
    "        self.__y = y.reshape(-1, 1)\n",
    "        self.n_features = X.shape[1]\n",
    "        \n",
    "        self.coef_ = np.random.randn(self.n_features)\n",
    "        self.intercept_ = np.random.random()\n",
    "        \n",
    "        errors = []\n",
    "        for i in range(100):\n",
    "            self.gradient_decend()\n",
    "            errors.append(self.error())\n",
    "#             print(self.coef_, self.intercept_)\n",
    "            \n",
    "        return errors\n",
    "            \n",
    "        \n",
    "    def gradient_decend(self):\n",
    "        \n",
    "        d_coef, d_intercept = self.gradient()\n",
    "        \n",
    "        self.coef_ -= d_coef * self.lr\n",
    "        self.intercept_ -= d_intercept * self.lr\n",
    "        \n",
    "    def gradient(self):\n",
    "        \n",
    "        yh = self.predict(self.__X)\n",
    "        # from derivation\n",
    "        d_coef = np.dot((yh-self.__y).T, self.__X).flatten() / self.__X.shape[0]\n",
    "        d_intercept = (yh-self.__y).mean()\n",
    "        \n",
    "        return d_coef, d_intercept\n",
    "    \n",
    "    def predict(self, X):\n",
    "        return np.sum((X * self.coef_), axis=1, keepdims=True) + self.intercept_\n",
    "    \n",
    "    def error(self):\n",
    "        return ((self.predict(self.__X) - self.__y) ** 2).sum()\n",
    "    \n",
    "    "
   ]
  },
  {
   "cell_type": "code",
   "execution_count": 200,
   "metadata": {},
   "outputs": [
    {
     "name": "stdout",
     "output_type": "stream",
     "text": [
      "[33.53385578 31.82887104 29.26133443 74.57951281  7.07323674  9.76987544\n",
      " 76.15441963  9.47890998  4.82482671 58.6824691 ] -1000.3334401551986\n",
      "[33.6926875  32.12551734 29.43481665 75.31997019  7.18075454 10.30191944\n",
      " 76.33080772  9.42759779  5.16621758 58.28693612] -1000\n"
     ]
    },
    {
     "data": {
      "text/plain": [
       "[<matplotlib.lines.Line2D at 0x12925a048>]"
      ]
     },
     "execution_count": 200,
     "metadata": {},
     "output_type": "execute_result"
    },
    {
     "data": {
      "image/png": "[encoded data removed]",
      "text/plain": [
       "<Figure size 432x288 with 1 Axes>"
      ]
     },
     "metadata": {
      "needs_background": "light"
     },
     "output_type": "display_data"
    }
   ],
   "source": [
    "model = LinearRegCustom(lr=.1)\n",
    "errors = model.fit(X, y)\n",
    "print(model.coef_, model.intercept_)\n",
    "print(coef, bias)\n",
    "plt.plot(errors)"
   ]
  },
  {
   "cell_type": "code",
   "execution_count": 197,
   "metadata": {},
   "outputs": [
    {
     "data": {
      "text/plain": [
       "9194068.962269966"
      ]
     },
     "execution_count": 197,
     "metadata": {},
     "output_type": "execute_result"
    }
   ],
   "source": [
    "model.error()"
   ]
  },
  {
   "cell_type": "code",
   "execution_count": 198,
   "metadata": {},
   "outputs": [
    {
     "data": {
      "text/plain": [
       "94313.23040196739"
      ]
     },
     "execution_count": 198,
     "metadata": {},
     "output_type": "execute_result"
    }
   ],
   "source": [
    "((y - (np.sum((X * coef), axis=1) + bias)) ** 2).sum()"
   ]
  },
  {
   "cell_type": "code",
   "execution_count": 199,
   "metadata": {},
   "outputs": [
    {
     "data": {
      "text/plain": [
       "9194068.962269966"
      ]
     },
     "execution_count": 199,
     "metadata": {},
     "output_type": "execute_result"
    }
   ],
   "source": [
    "model.error()"
   ]
  },
  {
   "cell_type": "code",
   "execution_count": null,
   "metadata": {},
   "outputs": [],
   "source": []
  },
  {
   "cell_type": "code",
   "execution_count": null,
   "metadata": {},
   "outputs": [],
   "source": []
  },
  {
   "cell_type": "code",
   "execution_count": null,
   "metadata": {},
   "outputs": [],
   "source": []
  },
  {
   "cell_type": "code",
   "execution_count": null,
   "metadata": {},
   "outputs": [],
   "source": []
  }
 ],
 "metadata": {
  "kernelspec": {
   "display_name": "Python 3",
   "language": "python",
   "name": "python3"
  },
  "language_info": {
   "codemirror_mode": {
    "name": "ipython",
    "version": 3
   },
   "file_extension": ".py",
   "mimetype": "text/x-python",
   "name": "python",
   "nbconvert_exporter": "python",
   "pygments_lexer": "ipython3",
   "version": "3.7.2"
  }
 },
 "nbformat": 4,
 "nbformat_minor": 4
}
