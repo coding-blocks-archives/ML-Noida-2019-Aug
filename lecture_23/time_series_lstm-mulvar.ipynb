{
 "cells": [
  {
   "cell_type": "code",
   "execution_count": 1,
   "metadata": {},
   "outputs": [],
   "source": [
    "import numpy as np\n",
    "import pandas as pd\n",
    "\n",
    "import matplotlib.pyplot as plt"
   ]
  },
  {
   "cell_type": "code",
   "execution_count": 2,
   "metadata": {},
   "outputs": [],
   "source": [
    "apple_df = pd.read_csv(\"../datasets/AAPL.csv\")"
   ]
  },
  {
   "cell_type": "code",
   "execution_count": 3,
   "metadata": {},
   "outputs": [
    {
     "data": {
      "text/html": [
       "<div>\n",
       "<style scoped>\n",
       "    .dataframe tbody tr th:only-of-type {\n",
       "        vertical-align: middle;\n",
       "    }\n",
       "\n",
       "    .dataframe tbody tr th {\n",
       "        vertical-align: top;\n",
       "    }\n",
       "\n",
       "    .dataframe thead th {\n",
       "        text-align: right;\n",
       "    }\n",
       "</style>\n",
       "<table border=\"1\" class=\"dataframe\">\n",
       "  <thead>\n",
       "    <tr style=\"text-align: right;\">\n",
       "      <th></th>\n",
       "      <th>Date</th>\n",
       "      <th>Open</th>\n",
       "      <th>High</th>\n",
       "      <th>Low</th>\n",
       "      <th>Close</th>\n",
       "      <th>Adj Close</th>\n",
       "      <th>Volume</th>\n",
       "    </tr>\n",
       "  </thead>\n",
       "  <tbody>\n",
       "    <tr>\n",
       "      <th>0</th>\n",
       "      <td>2014-09-29</td>\n",
       "      <td>100.589996</td>\n",
       "      <td>100.690002</td>\n",
       "      <td>98.040001</td>\n",
       "      <td>99.620003</td>\n",
       "      <td>93.514290</td>\n",
       "      <td>142718700</td>\n",
       "    </tr>\n",
       "    <tr>\n",
       "      <th>1</th>\n",
       "      <td>2014-10-06</td>\n",
       "      <td>99.949997</td>\n",
       "      <td>102.379997</td>\n",
       "      <td>98.309998</td>\n",
       "      <td>100.730003</td>\n",
       "      <td>94.556244</td>\n",
       "      <td>280258200</td>\n",
       "    </tr>\n",
       "    <tr>\n",
       "      <th>2</th>\n",
       "      <td>2014-10-13</td>\n",
       "      <td>101.330002</td>\n",
       "      <td>101.779999</td>\n",
       "      <td>95.180000</td>\n",
       "      <td>97.669998</td>\n",
       "      <td>91.683792</td>\n",
       "      <td>358539800</td>\n",
       "    </tr>\n",
       "    <tr>\n",
       "      <th>3</th>\n",
       "      <td>2014-10-20</td>\n",
       "      <td>98.320000</td>\n",
       "      <td>105.489998</td>\n",
       "      <td>98.220001</td>\n",
       "      <td>105.220001</td>\n",
       "      <td>98.771042</td>\n",
       "      <td>358532900</td>\n",
       "    </tr>\n",
       "    <tr>\n",
       "      <th>4</th>\n",
       "      <td>2014-10-27</td>\n",
       "      <td>104.849998</td>\n",
       "      <td>108.040001</td>\n",
       "      <td>104.699997</td>\n",
       "      <td>108.000000</td>\n",
       "      <td>101.380676</td>\n",
       "      <td>220230600</td>\n",
       "    </tr>\n",
       "  </tbody>\n",
       "</table>\n",
       "</div>"
      ],
      "text/plain": [
       "         Date        Open        High         Low       Close   Adj Close  \\\n",
       "0  2014-09-29  100.589996  100.690002   98.040001   99.620003   93.514290   \n",
       "1  2014-10-06   99.949997  102.379997   98.309998  100.730003   94.556244   \n",
       "2  2014-10-13  101.330002  101.779999   95.180000   97.669998   91.683792   \n",
       "3  2014-10-20   98.320000  105.489998   98.220001  105.220001   98.771042   \n",
       "4  2014-10-27  104.849998  108.040001  104.699997  108.000000  101.380676   \n",
       "\n",
       "      Volume  \n",
       "0  142718700  \n",
       "1  280258200  \n",
       "2  358539800  \n",
       "3  358532900  \n",
       "4  220230600  "
      ]
     },
     "execution_count": 3,
     "metadata": {},
     "output_type": "execute_result"
    }
   ],
   "source": [
    "apple_df.head()"
   ]
  },
  {
   "cell_type": "code",
   "execution_count": 6,
   "metadata": {},
   "outputs": [],
   "source": [
    "apple_high_unproc = apple_df.iloc[:, 2:3].values"
   ]
  },
  {
   "cell_type": "code",
   "execution_count": 7,
   "metadata": {},
   "outputs": [],
   "source": [
    "apple_features_unproc = apple_df.iloc[:, 1:-1].values"
   ]
  },
  {
   "cell_type": "code",
   "execution_count": 8,
   "metadata": {},
   "outputs": [
    {
     "data": {
      "text/plain": [
       "[<matplotlib.lines.Line2D at 0x118723a20>]"
      ]
     },
     "execution_count": 8,
     "metadata": {},
     "output_type": "execute_result"
    },
    {
     "data": {
      "image/png": "[encoded data removed]",
      "text/plain": [
       "<Figure size 432x288 with 1 Axes>"
      ]
     },
     "metadata": {
      "needs_background": "light"
     },
     "output_type": "display_data"
    }
   ],
   "source": [
    "plt.plot(apple_high_unproc)"
   ]
  },
  {
   "cell_type": "code",
   "execution_count": 9,
   "metadata": {},
   "outputs": [
    {
     "name": "stdout",
     "output_type": "stream",
     "text": [
      "max 183.5\n",
      "min 93.769997\n"
     ]
    }
   ],
   "source": [
    "print(\"max\", apple_high_unproc.max())\n",
    "print(\"min\", apple_high_unproc.min())"
   ]
  },
  {
   "cell_type": "code",
   "execution_count": 10,
   "metadata": {},
   "outputs": [],
   "source": [
    "from sklearn.preprocessing import MinMaxScaler"
   ]
  },
  {
   "cell_type": "code",
   "execution_count": 11,
   "metadata": {},
   "outputs": [],
   "source": [
    "scaler = MinMaxScaler()"
   ]
  },
  {
   "cell_type": "code",
   "execution_count": 12,
   "metadata": {},
   "outputs": [],
   "source": [
    "apple_high_proc = scaler.fit_transform(apple_high_unproc)"
   ]
  },
  {
   "cell_type": "code",
   "execution_count": 14,
   "metadata": {},
   "outputs": [],
   "source": [
    "apple_features_proc = scaler.transform(apple_features_unproc)"
   ]
  },
  {
   "cell_type": "code",
   "execution_count": 15,
   "metadata": {},
   "outputs": [
    {
     "data": {
      "text/plain": [
       "[<matplotlib.lines.Line2D at 0x1216d9eb8>]"
      ]
     },
     "execution_count": 15,
     "metadata": {},
     "output_type": "execute_result"
    },
    {
     "data": {
      "image/png": "[encoded data removed]",
      "text/plain": [
       "<Figure size 432x288 with 1 Axes>"
      ]
     },
     "metadata": {
      "needs_background": "light"
     },
     "output_type": "display_data"
    }
   ],
   "source": [
    "plt.plot(apple_high_proc)"
   ]
  },
  {
   "cell_type": "code",
   "execution_count": 16,
   "metadata": {},
   "outputs": [
    {
     "name": "stdout",
     "output_type": "stream",
     "text": [
      "max 1.0\n",
      "min 0.0\n"
     ]
    }
   ],
   "source": [
    "print(\"max\", apple_high_proc.max())\n",
    "print(\"min\", apple_high_proc.min())"
   ]
  },
  {
   "cell_type": "code",
   "execution_count": 17,
   "metadata": {},
   "outputs": [
    {
     "name": "stderr",
     "output_type": "stream",
     "text": [
      "Using TensorFlow backend.\n"
     ]
    }
   ],
   "source": [
    "from keras.preprocessing.sequence import TimeseriesGenerator"
   ]
  },
  {
   "cell_type": "code",
   "execution_count": 34,
   "metadata": {},
   "outputs": [],
   "source": [
    "generator = TimeseriesGenerator(apple_features_proc, apple_high_proc, length=15, batch_size=40)"
   ]
  },
  {
   "cell_type": "code",
   "execution_count": 35,
   "metadata": {},
   "outputs": [],
   "source": [
    "X, y = generator[0]"
   ]
  },
  {
   "cell_type": "code",
   "execution_count": 36,
   "metadata": {},
   "outputs": [
    {
     "data": {
      "text/plain": [
       "array([[[ 0.07600578,  0.0771203 ,  0.04758725,  0.06519565,\n",
       "         -0.00284974],\n",
       "        [ 0.06887328,  0.09595453,  0.05059624,  0.0775661 ,\n",
       "          0.00876236],\n",
       "        [ 0.08425281,  0.08926782,  0.01571384,  0.04346373,\n",
       "         -0.0232498 ],\n",
       "        [ 0.05070771,  0.13061407,  0.04959327,  0.12760508,\n",
       "          0.05573437],\n",
       "        [ 0.12348156,  0.15903269,  0.12180987,  0.1585869 ,\n",
       "          0.08481755],\n",
       "        [ 0.16103871,  0.18421939,  0.15546644,  0.16984291,\n",
       "          0.09538358],\n",
       "        [ 0.1699543 ,  0.22757165,  0.16304474,  0.22746018,\n",
       "          0.15464925],\n",
       "        [ 0.22846316,  0.26524019,  0.21765302,  0.2529812 ,\n",
       "          0.17870978],\n",
       "        [ 0.2572161 ,  0.2895353 ,  0.25465291,  0.28039677,\n",
       "          0.20455662],\n",
       "        [ 0.2790594 ,  0.28396302,  0.19502953,  0.23659871,\n",
       "          0.16326478],\n",
       "        [ 0.2265686 ,  0.23492701,  0.17363201,  0.177867  ,\n",
       "          0.10789364],\n",
       "        [ 0.18867714,  0.21698429,  0.13919541,  0.20071327,\n",
       "          0.12943255],\n",
       "        [ 0.20494825,  0.2312493 ,  0.20283075,  0.2253427 ,\n",
       "          0.15265275],\n",
       "        [ 0.22311382,  0.23403543,  0.15134292,  0.17340917,\n",
       "          0.10369089],\n",
       "        [ 0.16181883,  0.21709576,  0.12102975,  0.20327655,\n",
       "          0.13184924]],\n",
       "\n",
       "       [[ 0.06887328,  0.09595453,  0.05059624,  0.0775661 ,\n",
       "          0.00876236],\n",
       "        [ 0.08425281,  0.08926782,  0.01571384,  0.04346373,\n",
       "         -0.0232498 ],\n",
       "        [ 0.05070771,  0.13061407,  0.04959327,  0.12760508,\n",
       "          0.05573437],\n",
       "        [ 0.12348156,  0.15903269,  0.12180987,  0.1585869 ,\n",
       "          0.08481755],\n",
       "        [ 0.16103871,  0.18421939,  0.15546644,  0.16984291,\n",
       "          0.09538358],\n",
       "        [ 0.1699543 ,  0.22757165,  0.16304474,  0.22746018,\n",
       "          0.15464925],\n",
       "        [ 0.22846316,  0.26524019,  0.21765302,  0.2529812 ,\n",
       "          0.17870978],\n",
       "        [ 0.2572161 ,  0.2895353 ,  0.25465291,  0.28039677,\n",
       "          0.20455662],\n",
       "        [ 0.2790594 ,  0.28396302,  0.19502953,  0.23659871,\n",
       "          0.16326478],\n",
       "        [ 0.2265686 ,  0.23492701,  0.17363201,  0.177867  ,\n",
       "          0.10789364],\n",
       "        [ 0.18867714,  0.21698429,  0.13919541,  0.20071327,\n",
       "          0.12943255],\n",
       "        [ 0.20494825,  0.2312493 ,  0.20283075,  0.2253427 ,\n",
       "          0.15265275],\n",
       "        [ 0.22311382,  0.23403543,  0.15134292,  0.17340917,\n",
       "          0.10369089],\n",
       "        [ 0.16181883,  0.21709576,  0.12102975,  0.20327655,\n",
       "          0.13184924],\n",
       "        [ 0.20985178,  0.21208075,  0.12738214,  0.13618634,\n",
       "          0.06859788]],\n",
       "\n",
       "       [[ 0.08425281,  0.08926782,  0.01571384,  0.04346373,\n",
       "         -0.0232498 ],\n",
       "        [ 0.05070771,  0.13061407,  0.04959327,  0.12760508,\n",
       "          0.05573437],\n",
       "        [ 0.12348156,  0.15903269,  0.12180987,  0.1585869 ,\n",
       "          0.08481755],\n",
       "        [ 0.16103871,  0.18421939,  0.15546644,  0.16984291,\n",
       "          0.09538358],\n",
       "        [ 0.1699543 ,  0.22757165,  0.16304474,  0.22746018,\n",
       "          0.15464925],\n",
       "        [ 0.22846316,  0.26524019,  0.21765302,  0.2529812 ,\n",
       "          0.17870978],\n",
       "        [ 0.2572161 ,  0.2895353 ,  0.25465291,  0.28039677,\n",
       "          0.20455662],\n",
       "        [ 0.2790594 ,  0.28396302,  0.19502953,  0.23659871,\n",
       "          0.16326478],\n",
       "        [ 0.2265686 ,  0.23492701,  0.17363201,  0.177867  ,\n",
       "          0.10789364],\n",
       "        [ 0.18867714,  0.21698429,  0.13919541,  0.20071327,\n",
       "          0.12943255],\n",
       "        [ 0.20494825,  0.2312493 ,  0.20283075,  0.2253427 ,\n",
       "          0.15265275],\n",
       "        [ 0.22311382,  0.23403543,  0.15134292,  0.17340917,\n",
       "          0.10369089],\n",
       "        [ 0.16181883,  0.21709576,  0.12102975,  0.20327655,\n",
       "          0.13184924],\n",
       "        [ 0.20985178,  0.21208075,  0.12738214,  0.13618634,\n",
       "          0.06859788],\n",
       "        [ 0.15680373,  0.22266803,  0.14187008,  0.21408676,\n",
       "          0.14204107]],\n",
       "\n",
       "       [[ 0.05070771,  0.13061407,  0.04959327,  0.12760508,\n",
       "          0.05573437],\n",
       "        [ 0.12348156,  0.15903269,  0.12180987,  0.1585869 ,\n",
       "          0.08481755],\n",
       "        [ 0.16103871,  0.18421939,  0.15546644,  0.16984291,\n",
       "          0.09538358],\n",
       "        [ 0.1699543 ,  0.22757165,  0.16304474,  0.22746018,\n",
       "          0.15464925],\n",
       "        [ 0.22846316,  0.26524019,  0.21765302,  0.2529812 ,\n",
       "          0.17870978],\n",
       "        [ 0.2572161 ,  0.2895353 ,  0.25465291,  0.28039677,\n",
       "          0.20455662],\n",
       "        [ 0.2790594 ,  0.28396302,  0.19502953,  0.23659871,\n",
       "          0.16326478],\n",
       "        [ 0.2265686 ,  0.23492701,  0.17363201,  0.177867  ,\n",
       "          0.10789364],\n",
       "        [ 0.18867714,  0.21698429,  0.13919541,  0.20071327,\n",
       "          0.12943255],\n",
       "        [ 0.20494825,  0.2312493 ,  0.20283075,  0.2253427 ,\n",
       "          0.15265275],\n",
       "        [ 0.22311382,  0.23403543,  0.15134292,  0.17340917,\n",
       "          0.10369089],\n",
       "        [ 0.16181883,  0.21709576,  0.12102975,  0.20327655,\n",
       "          0.13184924],\n",
       "        [ 0.20985178,  0.21208075,  0.12738214,  0.13618634,\n",
       "          0.06859788],\n",
       "        [ 0.15680373,  0.22266803,  0.14187008,  0.21408676,\n",
       "          0.14204107],\n",
       "        [ 0.22255656,  0.29232143,  0.17006577,  0.26067097,\n",
       "          0.18595953]]])"
      ]
     },
     "execution_count": 36,
     "metadata": {},
     "output_type": "execute_result"
    }
   ],
   "source": [
    "X[:4]"
   ]
  },
  {
   "cell_type": "code",
   "execution_count": 37,
   "metadata": {},
   "outputs": [
    {
     "data": {
      "text/plain": [
       "array([[0.21208075],\n",
       "       [0.22266803],\n",
       "       [0.29232143],\n",
       "       [0.29800517]])"
      ]
     },
     "execution_count": 37,
     "metadata": {},
     "output_type": "execute_result"
    }
   ],
   "source": [
    "y[:4]"
   ]
  },
  {
   "cell_type": "code",
   "execution_count": 38,
   "metadata": {},
   "outputs": [
    {
     "data": {
      "text/plain": [
       "array([[0.0771203 ],\n",
       "       [0.09595453],\n",
       "       [0.08926782],\n",
       "       [0.13061407],\n",
       "       [0.15903269],\n",
       "       [0.18421939],\n",
       "       [0.22757165],\n",
       "       [0.26524019],\n",
       "       [0.2895353 ],\n",
       "       [0.28396302],\n",
       "       [0.23492701],\n",
       "       [0.21698429],\n",
       "       [0.2312493 ],\n",
       "       [0.23403543],\n",
       "       [0.21709576],\n",
       "       [0.21208075],\n",
       "       [0.22266803],\n",
       "       [0.29232143],\n",
       "       [0.29800517],\n",
       "       [0.37568266]])"
      ]
     },
     "execution_count": 38,
     "metadata": {},
     "output_type": "execute_result"
    }
   ],
   "source": [
    "apple_high_proc[:20]"
   ]
  },
  {
   "cell_type": "code",
   "execution_count": 39,
   "metadata": {},
   "outputs": [],
   "source": [
    "from keras.layers import Input, LSTM, Dense, Dropout\n",
    "from keras.models import Model"
   ]
  },
  {
   "cell_type": "code",
   "execution_count": 40,
   "metadata": {},
   "outputs": [],
   "source": [
    "in_layer = Input(shape=(15, 5))\n",
    "lstm_1 = LSTM(units=50, return_sequences=True)(in_layer)\n",
    "lstm_2 = LSTM(units=50)(lstm_1)\n",
    "d1 = Dense(10, activation=\"linear\")(lstm_2)\n",
    "out = Dense(1, activation=\"linear\")(d1)"
   ]
  },
  {
   "cell_type": "code",
   "execution_count": 41,
   "metadata": {},
   "outputs": [],
   "source": [
    "model = Model(in_layer, out)"
   ]
  },
  {
   "cell_type": "code",
   "execution_count": 42,
   "metadata": {},
   "outputs": [],
   "source": [
    "model.compile(optimizer=\"adam\", loss=\"mse\")"
   ]
  },
  {
   "cell_type": "code",
   "execution_count": 43,
   "metadata": {},
   "outputs": [
    {
     "name": "stdout",
     "output_type": "stream",
     "text": [
      "Epoch 1/10\n",
      "50/50 [==============================] - 2s 37ms/step - loss: 0.0301\n",
      "Epoch 2/10\n",
      "50/50 [==============================] - 1s 21ms/step - loss: 0.0058\n",
      "Epoch 3/10\n",
      "50/50 [==============================] - 1s 21ms/step - loss: 0.0056\n",
      "Epoch 4/10\n",
      "50/50 [==============================] - 1s 21ms/step - loss: 0.0052\n",
      "Epoch 5/10\n",
      "50/50 [==============================] - 1s 21ms/step - loss: 0.0048\n",
      "Epoch 6/10\n",
      "50/50 [==============================] - 1s 21ms/step - loss: 0.0047\n",
      "Epoch 7/10\n",
      "50/50 [==============================] - 1s 21ms/step - loss: 0.0044\n",
      "Epoch 8/10\n",
      "50/50 [==============================] - 1s 21ms/step - loss: 0.0041\n",
      "Epoch 9/10\n",
      "50/50 [==============================] - 1s 21ms/step - loss: 0.0040\n",
      "Epoch 10/10\n",
      "50/50 [==============================] - 1s 20ms/step - loss: 0.0036\n"
     ]
    },
    {
     "data": {
      "text/plain": [
       "<keras.callbacks.callbacks.History at 0x13db30d30>"
      ]
     },
     "execution_count": 43,
     "metadata": {},
     "output_type": "execute_result"
    }
   ],
   "source": [
    "model.fit_generator(generator, steps_per_epoch=50, epochs=10)"
   ]
  },
  {
   "cell_type": "code",
   "execution_count": 44,
   "metadata": {},
   "outputs": [
    {
     "data": {
      "text/plain": [
       "[<matplotlib.lines.Line2D at 0x13ef3cdd8>]"
      ]
     },
     "execution_count": 44,
     "metadata": {},
     "output_type": "execute_result"
    },
    {
     "data": {
      "image/png": "[encoded data removed]",
      "text/plain": [
       "<Figure size 432x288 with 1 Axes>"
      ]
     },
     "metadata": {
      "needs_background": "light"
     },
     "output_type": "display_data"
    }
   ],
   "source": [
    "plt.plot(generator[0][1])\n",
    "plt.plot(model.predict(generator[0][0]))"
   ]
  },
  {
   "cell_type": "code",
   "execution_count": null,
   "metadata": {},
   "outputs": [],
   "source": []
  },
  {
   "cell_type": "code",
   "execution_count": null,
   "metadata": {},
   "outputs": [],
   "source": []
  }
 ],
 "metadata": {
  "kernelspec": {
   "display_name": "Python 3",
   "language": "python",
   "name": "python3"
  },
  "language_info": {
   "codemirror_mode": {
    "name": "ipython",
    "version": 3
   },
   "file_extension": ".py",
   "mimetype": "text/x-python",
   "name": "python",
   "nbconvert_exporter": "python",
   "pygments_lexer": "ipython3",
   "version": "3.7.2"
  }
 },
 "nbformat": 4,
 "nbformat_minor": 4
}
