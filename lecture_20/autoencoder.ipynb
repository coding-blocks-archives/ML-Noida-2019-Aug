{
 "cells": [
  {
   "cell_type": "code",
   "execution_count": 34,
   "metadata": {},
   "outputs": [],
   "source": [
    "import numpy as np\n",
    "import pandas as pd\n",
    "from sklearn.model_selection import train_test_split\n",
    "import matplotlib.pyplot as plt\n",
    "\n",
    "from keras.layers import Input, Dense\n",
    "from keras.models import Model"
   ]
  },
  {
   "cell_type": "code",
   "execution_count": 2,
   "metadata": {},
   "outputs": [],
   "source": [
    "mnist = pd.read_csv(\"../datasets/mnist_train_small.csv\", header=None).values"
   ]
  },
  {
   "cell_type": "code",
   "execution_count": 4,
   "metadata": {},
   "outputs": [],
   "source": [
    "X, y = mnist[:, 1:], mnist[:, 0]"
   ]
  },
  {
   "cell_type": "code",
   "execution_count": 40,
   "metadata": {},
   "outputs": [],
   "source": [
    "in_encod = Input(shape=(784,))\n",
    "x = Dense(400, activation=\"relu\")(in_encod)\n",
    "x = Dense(200, activation=\"relu\")(x)\n",
    "out = Dense(50, activation=\"relu\")(x)"
   ]
  },
  {
   "cell_type": "code",
   "execution_count": 41,
   "metadata": {},
   "outputs": [],
   "source": [
    "encoder = Model(in_encod, out)"
   ]
  },
  {
   "cell_type": "code",
   "execution_count": 42,
   "metadata": {},
   "outputs": [],
   "source": [
    "in_decod = Input(shape=(50,))\n",
    "x = Dense(200, activation=\"relu\")(in_decod)\n",
    "x = Dense(400, activation=\"relu\")(x)\n",
    "out = Dense(784, activation=\"sigmoid\")(x)"
   ]
  },
  {
   "cell_type": "code",
   "execution_count": 43,
   "metadata": {},
   "outputs": [],
   "source": [
    "decoder = Model(in_decod, out)"
   ]
  },
  {
   "cell_type": "code",
   "execution_count": 44,
   "metadata": {},
   "outputs": [],
   "source": [
    "in_auto = Input(shape=(784,))\n",
    "layer_encod = encoder(in_auto)\n",
    "layer_decod = decoder(layer_encod)"
   ]
  },
  {
   "cell_type": "code",
   "execution_count": 45,
   "metadata": {},
   "outputs": [],
   "source": [
    "autoencoder = Model(in_auto, layer_decod)"
   ]
  },
  {
   "cell_type": "code",
   "execution_count": 46,
   "metadata": {},
   "outputs": [
    {
     "name": "stdout",
     "output_type": "stream",
     "text": [
      "Model: \"model_12\"\n",
      "_________________________________________________________________\n",
      "Layer (type)                 Output Shape              Param #   \n",
      "=================================================================\n",
      "input_12 (InputLayer)        (None, 784)               0         \n",
      "_________________________________________________________________\n",
      "model_10 (Model)             (None, 50)                404250    \n",
      "_________________________________________________________________\n",
      "model_11 (Model)             (None, 784)               404984    \n",
      "=================================================================\n",
      "Total params: 809,234\n",
      "Trainable params: 809,234\n",
      "Non-trainable params: 0\n",
      "_________________________________________________________________\n"
     ]
    }
   ],
   "source": [
    "autoencoder.summary()"
   ]
  },
  {
   "cell_type": "code",
   "execution_count": 47,
   "metadata": {},
   "outputs": [],
   "source": [
    "X_mod = X / 255"
   ]
  },
  {
   "cell_type": "code",
   "execution_count": 48,
   "metadata": {},
   "outputs": [
    {
     "data": {
      "text/plain": [
       "dtype('float64')"
      ]
     },
     "execution_count": 48,
     "metadata": {},
     "output_type": "execute_result"
    }
   ],
   "source": [
    "X_mod.dtype"
   ]
  },
  {
   "cell_type": "code",
   "execution_count": 49,
   "metadata": {},
   "outputs": [],
   "source": [
    "X_train, X_test, y_train, y_test = train_test_split(\n",
    "...     X_mod, y, test_size=0.33, random_state=42)"
   ]
  },
  {
   "cell_type": "code",
   "execution_count": 50,
   "metadata": {},
   "outputs": [],
   "source": [
    "autoencoder.compile(optimizer=\"adam\", loss=\"binary_crossentropy\")"
   ]
  },
  {
   "cell_type": "code",
   "execution_count": 51,
   "metadata": {},
   "outputs": [
    {
     "name": "stdout",
     "output_type": "stream",
     "text": [
      "Epoch 1/50\n",
      "13400/13400 [==============================] - 1s 82us/step - loss: 0.5010\n",
      "Epoch 2/50\n",
      "13400/13400 [==============================] - 1s 63us/step - loss: 0.2843\n",
      "Epoch 3/50\n",
      "13400/13400 [==============================] - 1s 63us/step - loss: 0.2626\n",
      "Epoch 4/50\n",
      "13400/13400 [==============================] - 1s 64us/step - loss: 0.2472\n",
      "Epoch 5/50\n",
      "13400/13400 [==============================] - 1s 78us/step - loss: 0.2234\n",
      "Epoch 6/50\n",
      "13400/13400 [==============================] - 1s 73us/step - loss: 0.2013\n",
      "Epoch 7/50\n",
      "13400/13400 [==============================] - ETA: 0s - loss: 0.183 - 1s 80us/step - loss: 0.1838\n",
      "Epoch 8/50\n",
      "13400/13400 [==============================] - 1s 71us/step - loss: 0.1721\n",
      "Epoch 9/50\n",
      "13400/13400 [==============================] - 1s 64us/step - loss: 0.1632\n",
      "Epoch 10/50\n",
      "13400/13400 [==============================] - 1s 74us/step - loss: 0.1548\n",
      "Epoch 11/50\n",
      "13400/13400 [==============================] - 1s 78us/step - loss: 0.1475\n",
      "Epoch 12/50\n",
      "13400/13400 [==============================] - 1s 66us/step - loss: 0.1449\n",
      "Epoch 13/50\n",
      "13400/13400 [==============================] - 1s 70us/step - loss: 0.1384\n",
      "Epoch 14/50\n",
      "13400/13400 [==============================] - 1s 66us/step - loss: 0.1340\n",
      "Epoch 15/50\n",
      "13400/13400 [==============================] - 1s 71us/step - loss: 0.1306\n",
      "Epoch 16/50\n",
      "13400/13400 [==============================] - 1s 81us/step - loss: 0.1277\n",
      "Epoch 17/50\n",
      "13400/13400 [==============================] - 1s 72us/step - loss: 0.1254\n",
      "Epoch 18/50\n",
      "13400/13400 [==============================] - 1s 71us/step - loss: 0.1222\n",
      "Epoch 19/50\n",
      "13400/13400 [==============================] - 1s 84us/step - loss: 0.1199\n",
      "Epoch 20/50\n",
      "13400/13400 [==============================] - 1s 77us/step - loss: 0.1193\n",
      "Epoch 21/50\n",
      "13400/13400 [==============================] - 1s 72us/step - loss: 0.1174\n",
      "Epoch 22/50\n",
      "13400/13400 [==============================] - 1s 65us/step - loss: 0.1149\n",
      "Epoch 23/50\n",
      "13400/13400 [==============================] - 1s 63us/step - loss: 0.1130\n",
      "Epoch 24/50\n",
      "13400/13400 [==============================] - 1s 64us/step - loss: 0.1117\n",
      "Epoch 25/50\n",
      "13400/13400 [==============================] - 1s 66us/step - loss: 0.1101\n",
      "Epoch 26/50\n",
      "13400/13400 [==============================] - 1s 64us/step - loss: 0.1087\n",
      "Epoch 27/50\n",
      "13400/13400 [==============================] - 1s 63us/step - loss: 0.1089\n",
      "Epoch 28/50\n",
      "13400/13400 [==============================] - 1s 64us/step - loss: 0.1066\n",
      "Epoch 29/50\n",
      "13400/13400 [==============================] - 1s 66us/step - loss: 0.1052\n",
      "Epoch 30/50\n",
      "13400/13400 [==============================] - 1s 66us/step - loss: 0.1044\n",
      "Epoch 31/50\n",
      "13400/13400 [==============================] - 1s 69us/step - loss: 0.1034\n",
      "Epoch 32/50\n",
      "13400/13400 [==============================] - 1s 66us/step - loss: 0.1025\n",
      "Epoch 33/50\n",
      "13400/13400 [==============================] - 1s 68us/step - loss: 0.1020\n",
      "Epoch 34/50\n",
      "13400/13400 [==============================] - 1s 66us/step - loss: 0.1008\n",
      "Epoch 35/50\n",
      "13400/13400 [==============================] - 1s 70us/step - loss: 0.1004\n",
      "Epoch 36/50\n",
      "13400/13400 [==============================] - 1s 86us/step - loss: 0.0999\n",
      "Epoch 37/50\n",
      "13400/13400 [==============================] - 1s 90us/step - loss: 0.0987\n",
      "Epoch 38/50\n",
      "13400/13400 [==============================] - 1s 85us/step - loss: 0.0981\n",
      "Epoch 39/50\n",
      "13400/13400 [==============================] - 1s 78us/step - loss: 0.0976\n",
      "Epoch 40/50\n",
      "13400/13400 [==============================] - 1s 76us/step - loss: 0.0970\n",
      "Epoch 41/50\n",
      "13400/13400 [==============================] - 1s 73us/step - loss: 0.0963\n",
      "Epoch 42/50\n",
      "13400/13400 [==============================] - 1s 72us/step - loss: 0.0959\n",
      "Epoch 43/50\n",
      "13400/13400 [==============================] - 1s 71us/step - loss: 0.0954\n",
      "Epoch 44/50\n",
      "13400/13400 [==============================] - 1s 72us/step - loss: 0.0949\n",
      "Epoch 45/50\n",
      "13400/13400 [==============================] - 1s 82us/step - loss: 0.0942\n",
      "Epoch 46/50\n",
      "13400/13400 [==============================] - 1s 75us/step - loss: 0.0938\n",
      "Epoch 47/50\n",
      "13400/13400 [==============================] - 1s 80us/step - loss: 0.0933\n",
      "Epoch 48/50\n",
      "13400/13400 [==============================] - 1s 74us/step - loss: 0.0941\n",
      "Epoch 49/50\n",
      "13400/13400 [==============================] - 1s 71us/step - loss: 0.0933\n",
      "Epoch 50/50\n",
      "13400/13400 [==============================] - 1s 76us/step - loss: 0.0924\n"
     ]
    },
    {
     "data": {
      "text/plain": [
       "<keras.callbacks.callbacks.History at 0x14afe2630>"
      ]
     },
     "execution_count": 51,
     "metadata": {},
     "output_type": "execute_result"
    }
   ],
   "source": [
    "autoencoder.fit(X_train, X_train, batch_size=1000, epochs=50)"
   ]
  },
  {
   "cell_type": "code",
   "execution_count": 52,
   "metadata": {},
   "outputs": [
    {
     "data": {
      "image/png": "[encoded data removed]",
      "text/plain": [
       "<Figure size 432x288 with 1 Axes>"
      ]
     },
     "metadata": {
      "needs_background": "light"
     },
     "output_type": "display_data"
    },
    {
     "data": {
      "image/png": "[encoded data removed]",
      "text/plain": [
       "<Figure size 432x288 with 1 Axes>"
      ]
     },
     "metadata": {
      "needs_background": "light"
     },
     "output_type": "display_data"
    },
    {
     "data": {
      "image/png": "[encoded data removed]",
      "text/plain": [
       "<Figure size 432x288 with 1 Axes>"
      ]
     },
     "metadata": {
      "needs_background": "light"
     },
     "output_type": "display_data"
    },
    {
     "data": {
      "image/png": "[encoded data removed]",
      "text/plain": [
       "<Figure size 432x288 with 1 Axes>"
      ]
     },
     "metadata": {
      "needs_background": "light"
     },
     "output_type": "display_data"
    },
    {
     "data": {
      "image/png": "[encoded data removed]",
      "text/plain": [
       "<Figure size 432x288 with 1 Axes>"
      ]
     },
     "metadata": {
      "needs_background": "light"
     },
     "output_type": "display_data"
    }
   ],
   "source": [
    "for img in X_test[:5]:\n",
    "    plt.figure()\n",
    "    plt.imshow(img.reshape(28, 28))"
   ]
  },
  {
   "cell_type": "code",
   "execution_count": 53,
   "metadata": {},
   "outputs": [],
   "source": [
    "out = autoencoder.predict(X_test[:5])"
   ]
  },
  {
   "cell_type": "code",
   "execution_count": 54,
   "metadata": {},
   "outputs": [
    {
     "data": {
      "image/png": "[encoded data removed]",
      "text/plain": [
       "<Figure size 432x288 with 1 Axes>"
      ]
     },
     "metadata": {
      "needs_background": "light"
     },
     "output_type": "display_data"
    },
    {
     "data": {
      "image/png": "[encoded data removed]",
      "text/plain": [
       "<Figure size 432x288 with 1 Axes>"
      ]
     },
     "metadata": {
      "needs_background": "light"
     },
     "output_type": "display_data"
    },
    {
     "data": {
      "image/png": "[encoded data removed]",
      "text/plain": [
       "<Figure size 432x288 with 1 Axes>"
      ]
     },
     "metadata": {
      "needs_background": "light"
     },
     "output_type": "display_data"
    },
    {
     "data": {
      "image/png": "[encoded data removed]",
      "text/plain": [
       "<Figure size 432x288 with 1 Axes>"
      ]
     },
     "metadata": {
      "needs_background": "light"
     },
     "output_type": "display_data"
    },
    {
     "data": {
      "image/png": "[encoded data removed]",
      "text/plain": [
       "<Figure size 432x288 with 1 Axes>"
      ]
     },
     "metadata": {
      "needs_background": "light"
     },
     "output_type": "display_data"
    }
   ],
   "source": [
    "for img in out:\n",
    "    plt.figure()\n",
    "    plt.imshow(img.reshape(28, 28))"
   ]
  },
  {
   "cell_type": "code",
   "execution_count": 65,
   "metadata": {},
   "outputs": [],
   "source": [
    "noise = np.random.randint(0, 1000, 50)"
   ]
  },
  {
   "cell_type": "code",
   "execution_count": 66,
   "metadata": {},
   "outputs": [],
   "source": [
    "img = decoder.predict(np.array([noise]))"
   ]
  },
  {
   "cell_type": "code",
   "execution_count": 67,
   "metadata": {},
   "outputs": [
    {
     "data": {
      "text/plain": [
       "<matplotlib.image.AxesImage at 0x13ac504e0>"
      ]
     },
     "execution_count": 67,
     "metadata": {},
     "output_type": "execute_result"
    },
    {
     "data": {
      "image/png": "[encoded data removed]",
      "text/plain": [
       "<Figure size 432x288 with 1 Axes>"
      ]
     },
     "metadata": {
      "needs_background": "light"
     },
     "output_type": "display_data"
    }
   ],
   "source": [
    "plt.imshow(img.reshape(28, 28))"
   ]
  },
  {
   "cell_type": "code",
   "execution_count": null,
   "metadata": {},
   "outputs": [],
   "source": []
  }
 ],
 "metadata": {
  "kernelspec": {
   "display_name": "Python 3",
   "language": "python",
   "name": "python3"
  },
  "language_info": {
   "codemirror_mode": {
    "name": "ipython",
    "version": 3
   },
   "file_extension": ".py",
   "mimetype": "text/x-python",
   "name": "python",
   "nbconvert_exporter": "python",
   "pygments_lexer": "ipython3",
   "version": "3.7.2"
  }
 },
 "nbformat": 4,
 "nbformat_minor": 4
}
