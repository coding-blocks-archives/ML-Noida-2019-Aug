{
 "cells": [
  {
   "cell_type": "code",
   "execution_count": 5,
   "metadata": {},
   "outputs": [],
   "source": [
    "import numpy as np\n",
    "import pandas as pd\n",
    "from sklearn.model_selection import train_test_split\n",
    "import matplotlib.pyplot as plt\n",
    "\n",
    "from keras.layers import Input, Dense, Conv2D, MaxPooling2D, UpSampling2D, Flatten\n",
    "from keras.models import Model\n",
    "from keras.layers.advanced_activations import LeakyReLU\n",
    "\n",
    "import random"
   ]
  },
  {
   "cell_type": "code",
   "execution_count": 3,
   "metadata": {},
   "outputs": [],
   "source": [
    "mnist = pd.read_csv(\"../datasets/mnist_train_small.csv\", header=None).values"
   ]
  },
  {
   "cell_type": "code",
   "execution_count": 4,
   "metadata": {},
   "outputs": [],
   "source": [
    "X, y = mnist[:, 1:].reshape(-1, 28, 28, 1), mnist[:, 0]"
   ]
  },
  {
   "cell_type": "code",
   "execution_count": 9,
   "metadata": {},
   "outputs": [],
   "source": [
    "in_disc = Input(shape=(28, 28, 1))\n",
    "x = Conv2D(16, (3, 3))(in_disc)\n",
    "x = LeakyReLU(alpha=0.2)(x)\n",
    "x = MaxPooling2D()(x)\n",
    "x = Conv2D(32, (3, 3))(x)\n",
    "x = LeakyReLU(alpha=0.2)(x)\n",
    "x = MaxPooling2D()(x)\n",
    "x = Conv2D(32, (3, 3))(x)\n",
    "x = LeakyReLU(alpha=0.2)(x)\n",
    "x = MaxPooling2D()(x)\n",
    "x = Flatten()(x)\n",
    "x = Dense(10, activation=\"tanh\")(x)\n",
    "out = Dense(1, activation=\"sigmoid\")(x)"
   ]
  },
  {
   "cell_type": "code",
   "execution_count": 10,
   "metadata": {},
   "outputs": [],
   "source": [
    "disc = Model(in_disc, out)"
   ]
  },
  {
   "cell_type": "code",
   "execution_count": 12,
   "metadata": {},
   "outputs": [],
   "source": [
    "in_gen = Input(shape=(7, 7, 1))\n",
    "x = Conv2D(16, (3, 3), padding=\"same\")(in_gen)\n",
    "x = LeakyReLU(alpha=0.2)(x)\n",
    "x = UpSampling2D()(x)\n",
    "x = Conv2D(8, (3, 3), padding=\"same\")(x)\n",
    "x = LeakyReLU(alpha=0.2)(x)\n",
    "x = UpSampling2D()(x)\n",
    "x = Conv2D(4, (3, 3), padding=\"same\")(x)\n",
    "out = Conv2D(1, (3, 3), padding=\"same\", activation=\"sigmoid\")(x)"
   ]
  },
  {
   "cell_type": "code",
   "execution_count": 13,
   "metadata": {},
   "outputs": [],
   "source": [
    "gen = Model(in_gen, out)"
   ]
  },
  {
   "cell_type": "code",
   "execution_count": 16,
   "metadata": {},
   "outputs": [],
   "source": [
    "in_gan = Input(shape=(7, 7, 1))\n",
    "layer_gen = gen(in_gan)\n",
    "layer_disc = disc(layer_gen)"
   ]
  },
  {
   "cell_type": "code",
   "execution_count": 17,
   "metadata": {},
   "outputs": [],
   "source": [
    "gan = Model(in_gan, layer_disc)"
   ]
  },
  {
   "cell_type": "code",
   "execution_count": null,
   "metadata": {},
   "outputs": [],
   "source": []
  },
  {
   "cell_type": "code",
   "execution_count": 18,
   "metadata": {},
   "outputs": [],
   "source": [
    "X_mod = X / 255"
   ]
  },
  {
   "cell_type": "code",
   "execution_count": 19,
   "metadata": {},
   "outputs": [],
   "source": [
    "gan.compile(optimizer=\"adam\", loss=\"binary_crossentropy\")"
   ]
  },
  {
   "cell_type": "code",
   "execution_count": 20,
   "metadata": {},
   "outputs": [],
   "source": [
    "disc.compile(optimizer=\"adam\", loss=\"binary_crossentropy\")"
   ]
  },
  {
   "cell_type": "code",
   "execution_count": 21,
   "metadata": {},
   "outputs": [],
   "source": [
    "gen.compile(optimizer=\"adam\", loss=\"binary_crossentropy\")"
   ]
  },
  {
   "cell_type": "code",
   "execution_count": null,
   "metadata": {},
   "outputs": [
    {
     "name": "stderr",
     "output_type": "stream",
     "text": [
      "/usr/local/lib/python3.7/site-packages/keras/engine/training.py:297: UserWarning: Discrepancy between trainable weights and collected trainable weights, did you set `model.trainable` without calling `model.compile` after ?\n",
      "  'Discrepancy between trainable weights and collected trainable'\n",
      "/usr/local/lib/python3.7/site-packages/matplotlib/pyplot.py:514: RuntimeWarning: More than 20 figures have been opened. Figures created through the pyplot interface (`matplotlib.pyplot.figure`) are retained until explicitly closed and may consume too much memory. (To control this warning, see the rcParam `figure.max_open_warning`).\n",
      "  max_open_warning, RuntimeWarning)\n"
     ]
    }
   ],
   "source": [
    "for i in range(10):\n",
    "    noise = np.random.rand(500, 50)\n",
    "\n",
    "    pred = gen.predict(noise)\n",
    "    real = X_mod[np.random.randint(0, len(X_mod), 500)]\n",
    "\n",
    "    disc_input = np.vstack([pred, real])\n",
    "\n",
    "    result = np.vstack([np.zeros([500, 1]), np.ones([500, 1])])\n",
    "\n",
    "    disc.trainable = True\n",
    "    disc.fit(disc_input, result, batch_size=100, epochs=5, verbose=0)\n",
    "\n",
    "    disc.trainable = False\n",
    "    gan.fit(noise, np.ones([500, 1]), batch_size=50, epochs=10, verbose=0)\n",
    "    \n",
    "    plt.figure()\n",
    "    \n",
    "    plt.imshow(pred[0].reshape(28, 28))"
   ]
  },
  {
   "cell_type": "code",
   "execution_count": 42,
   "metadata": {},
   "outputs": [
    {
     "name": "stdout",
     "output_type": "stream",
     "text": [
      "Model: \"model_6\"\n",
      "_________________________________________________________________\n",
      "Layer (type)                 Output Shape              Param #   \n",
      "=================================================================\n",
      "input_6 (InputLayer)         (None, 50)                0         \n",
      "_________________________________________________________________\n",
      "model_5 (Model)              (None, 784)               420084    \n",
      "_________________________________________________________________\n",
      "model_4 (Model)              (None, 1)                 415321    \n",
      "=================================================================\n",
      "Total params: 1,250,726\n",
      "Trainable params: 835,405\n",
      "Non-trainable params: 415,321\n",
      "_________________________________________________________________\n"
     ]
    },
    {
     "name": "stderr",
     "output_type": "stream",
     "text": [
      "/usr/local/lib/python3.7/site-packages/keras/engine/training.py:297: UserWarning: Discrepancy between trainable weights and collected trainable weights, did you set `model.trainable` without calling `model.compile` after ?\n",
      "  'Discrepancy between trainable weights and collected trainable'\n"
     ]
    }
   ],
   "source": [
    "gan.summary()"
   ]
  },
  {
   "cell_type": "code",
   "execution_count": null,
   "metadata": {},
   "outputs": [],
   "source": []
  }
 ],
 "metadata": {
  "kernelspec": {
   "display_name": "Python 3",
   "language": "python",
   "name": "python3"
  },
  "language_info": {
   "codemirror_mode": {
    "name": "ipython",
    "version": 3
   },
   "file_extension": ".py",
   "mimetype": "text/x-python",
   "name": "python",
   "nbconvert_exporter": "python",
   "pygments_lexer": "ipython3",
   "version": "3.7.2"
  }
 },
 "nbformat": 4,
 "nbformat_minor": 4
}
