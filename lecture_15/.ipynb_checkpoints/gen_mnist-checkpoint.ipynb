{
 "cells": [
  {
   "cell_type": "code",
   "execution_count": 1,
   "metadata": {},
   "outputs": [
    {
     "name": "stderr",
     "output_type": "stream",
     "text": [
      "Using TensorFlow backend.\n"
     ]
    }
   ],
   "source": [
    "from keras.preprocessing.image import ImageDataGenerator, load_img\n",
    "import numpy as np\n",
    "import matplotlib.pyplot as plt\n",
    "import pandas as pd"
   ]
  },
  {
   "cell_type": "code",
   "execution_count": 38,
   "metadata": {},
   "outputs": [],
   "source": [
    "gen = ImageDataGenerator(zoom_range=0.2, shear_range=.2)"
   ]
  },
  {
   "cell_type": "code",
   "execution_count": 39,
   "metadata": {},
   "outputs": [],
   "source": [
    "data = pd.read_csv(\"../datasets/mnist_train_small.csv\", header=None).values"
   ]
  },
  {
   "cell_type": "code",
   "execution_count": 40,
   "metadata": {},
   "outputs": [],
   "source": [
    "X, y = data[:, 1:], data[:, 0]"
   ]
  },
  {
   "cell_type": "code",
   "execution_count": 41,
   "metadata": {},
   "outputs": [],
   "source": [
    "np_batch = X.reshape(-1, 28, 28, 1)"
   ]
  },
  {
   "cell_type": "code",
   "execution_count": 45,
   "metadata": {},
   "outputs": [
    {
     "data": {
      "text/plain": [
       "\u001b[0;31mSignature:\u001b[0m\n",
       "\u001b[0mgen\u001b[0m\u001b[0;34m.\u001b[0m\u001b[0mflow\u001b[0m\u001b[0;34m(\u001b[0m\u001b[0;34m\u001b[0m\n",
       "\u001b[0;34m\u001b[0m    \u001b[0;34m[\u001b[0m\u001b[0;34m'x'\u001b[0m\u001b[0;34m,\u001b[0m \u001b[0;34m'y=None'\u001b[0m\u001b[0;34m,\u001b[0m \u001b[0;34m'batch_size=32'\u001b[0m\u001b[0;34m,\u001b[0m \u001b[0;34m'shuffle=True'\u001b[0m\u001b[0;34m,\u001b[0m \u001b[0;34m'sample_weight=None'\u001b[0m\u001b[0;34m,\u001b[0m \u001b[0;34m'seed=None'\u001b[0m\u001b[0;34m,\u001b[0m \u001b[0;34m'save_to_dir=None'\u001b[0m\u001b[0;34m,\u001b[0m \u001b[0;34m\"save_prefix=''\"\u001b[0m\u001b[0;34m,\u001b[0m \u001b[0;34m\"save_format='png'\"\u001b[0m\u001b[0;34m,\u001b[0m \u001b[0;34m'subset=None'\u001b[0m\u001b[0;34m]\u001b[0m\u001b[0;34m,\u001b[0m\u001b[0;34m\u001b[0m\n",
       "\u001b[0;34m\u001b[0m\u001b[0;34m)\u001b[0m\u001b[0;34m\u001b[0m\u001b[0;34m\u001b[0m\u001b[0m\n",
       "\u001b[0;31mDocstring:\u001b[0m\n",
       "Takes data & label arrays, generates batches of augmented data.\n",
       "\n",
       "# Arguments\n",
       "    x: Input data. Numpy array of rank 4 or a tuple.\n",
       "        If tuple, the first element\n",
       "        should contain the images and the second element\n",
       "        another numpy array or a list of numpy arrays\n",
       "        that gets passed to the output\n",
       "        without any modifications.\n",
       "        Can be used to feed the model miscellaneous data\n",
       "        along with the images.\n",
       "        In case of grayscale data, the channels axis of the image array\n",
       "        should have value 1, in case\n",
       "        of RGB data, it should have value 3, and in case\n",
       "        of RGBA data, it should have value 4.\n",
       "    y: Labels.\n",
       "    batch_size: Int (default: 32).\n",
       "    shuffle: Boolean (default: True).\n",
       "    sample_weight: Sample weights.\n",
       "    seed: Int (default: None).\n",
       "    save_to_dir: None or str (default: None).\n",
       "        This allows you to optionally specify a directory\n",
       "        to which to save the augmented pictures being generated\n",
       "        (useful for visualizing what you are doing).\n",
       "    save_prefix: Str (default: `''`).\n",
       "        Prefix to use for filenames of saved pictures\n",
       "        (only relevant if `save_to_dir` is set).\n",
       "    save_format: one of \"png\", \"jpeg\"\n",
       "        (only relevant if `save_to_dir` is set). Default: \"png\".\n",
       "    subset: Subset of data (`\"training\"` or `\"validation\"`) if\n",
       "        `validation_split` is set in `ImageDataGenerator`.\n",
       "\n",
       "# Returns\n",
       "    An `Iterator` yielding tuples of `(x, y)`\n",
       "        where `x` is a numpy array of image data\n",
       "        (in the case of a single image input) or a list\n",
       "        of numpy arrays (in the case with\n",
       "        additional inputs) and `y` is a numpy array\n",
       "        of corresponding labels. If 'sample_weight' is not None,\n",
       "        the yielded tuples are of the form `(x, y, sample_weight)`.\n",
       "        If `y` is None, only the numpy array `x` is returned.\n",
       "\u001b[0;31mFile:\u001b[0m      /usr/local/lib/python3.7/site-packages/keras_preprocessing/image/image_data_generator.py\n",
       "\u001b[0;31mType:\u001b[0m      method\n"
      ]
     },
     "metadata": {},
     "output_type": "display_data"
    }
   ],
   "source": [
    "flow_iter = gen.flow(np_batch, y, batch_size=5, save_to_dir=\"temp\")"
   ]
  },
  {
   "cell_type": "code",
   "execution_count": null,
   "metadata": {},
   "outputs": [],
   "source": [
    "flow_iter = gen.flow"
   ]
  },
  {
   "cell_type": "code",
   "execution_count": 43,
   "metadata": {},
   "outputs": [],
   "source": [
    "X_gen, y_gen = flow_iter.next()\n"
   ]
  },
  {
   "cell_type": "code",
   "execution_count": 44,
   "metadata": {},
   "outputs": [
    {
     "data": {
      "image/png": "[encoded data removed]",
      "text/plain": [
       "<Figure size 432x288 with 1 Axes>"
      ]
     },
     "metadata": {
      "needs_background": "light"
     },
     "output_type": "display_data"
    },
    {
     "data": {
      "image/png": "[encoded data removed]",
      "text/plain": [
       "<Figure size 432x288 with 1 Axes>"
      ]
     },
     "metadata": {
      "needs_background": "light"
     },
     "output_type": "display_data"
    },
    {
     "data": {
      "image/png": "[encoded data removed]",
      "text/plain": [
       "<Figure size 432x288 with 1 Axes>"
      ]
     },
     "metadata": {
      "needs_background": "light"
     },
     "output_type": "display_data"
    },
    {
     "data": {
      "image/png": "[encoded data removed]",
      "text/plain": [
       "<Figure size 432x288 with 1 Axes>"
      ]
     },
     "metadata": {
      "needs_background": "light"
     },
     "output_type": "display_data"
    },
    {
     "data": {
      "image/png": "[encoded data removed]",
      "text/plain": [
       "<Figure size 432x288 with 1 Axes>"
      ]
     },
     "metadata": {
      "needs_background": "light"
     },
     "output_type": "display_data"
    }
   ],
   "source": [
    "for i in range(5):\n",
    "    plt.figure()\n",
    "    plt.title(str(y_gen[i]))\n",
    "    plt.imshow(X_gen[i].reshape(28, 28))"
   ]
  },
  {
   "cell_type": "code",
   "execution_count": null,
   "metadata": {},
   "outputs": [],
   "source": []
  },
  {
   "cell_type": "code",
   "execution_count": null,
   "metadata": {},
   "outputs": [],
   "source": []
  }
 ],
 "metadata": {
  "kernelspec": {
   "display_name": "Python 3",
   "language": "python",
   "name": "python3"
  },
  "language_info": {
   "codemirror_mode": {
    "name": "ipython",
    "version": 3
   },
   "file_extension": ".py",
   "mimetype": "text/x-python",
   "name": "python",
   "nbconvert_exporter": "python",
   "pygments_lexer": "ipython3",
   "version": "3.7.2"
  }
 },
 "nbformat": 4,
 "nbformat_minor": 4
}
