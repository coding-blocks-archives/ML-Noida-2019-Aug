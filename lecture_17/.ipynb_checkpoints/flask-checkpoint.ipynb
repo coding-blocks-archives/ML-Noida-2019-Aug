{
 "cells": [
  {
   "cell_type": "code",
   "execution_count": 31,
   "metadata": {},
   "outputs": [],
   "source": [
    "from flask import Flask, render_template, request, redirect"
   ]
  },
  {
   "cell_type": "code",
   "execution_count": 28,
   "metadata": {},
   "outputs": [],
   "source": [
    "app = Flask(\"My-App\")"
   ]
  },
  {
   "cell_type": "code",
   "execution_count": 29,
   "metadata": {},
   "outputs": [],
   "source": [
    "@app.route(\"/\", methods=[\"get\"])\n",
    "def hello():\n",
    "    return render_template(\"form.template\")\n",
    "\n",
    "@app.route(\"/submit\", methods=[\"post\"])\n",
    "def submit_form():\n",
    "    return \"Logged in for \" + request.form[\"text\"]\n",
    "\n",
    "@app.route(\"/submit\", methods=[\"get\"])\n",
    "def hello():\n",
    "    return redirect(\"/\")"
   ]
  },
  {
   "cell_type": "code",
   "execution_count": 30,
   "metadata": {},
   "outputs": [
    {
     "name": "stdout",
     "output_type": "stream",
     "text": [
      " * Serving Flask app \"My-App\" (lazy loading)\n",
      " * Environment: production\n",
      "   WARNING: This is a development server. Do not use it in a production deployment.\n",
      "   Use a production WSGI server instead.\n",
      " * Debug mode: off\n"
     ]
    },
    {
     "name": "stderr",
     "output_type": "stream",
     "text": [
      " * Running on http://127.0.0.1:5000/ (Press CTRL+C to quit)\n",
      "127.0.0.1 - - [02/Nov/2019 18:08:32] \"\u001b[37mGET / HTTP/1.1\u001b[0m\" 200 -\n",
      "127.0.0.1 - - [02/Nov/2019 18:08:38] \"\u001b[1m\u001b[31mPOST /submit HTTP/1.1\u001b[0m\" 400 -\n"
     ]
    }
   ],
   "source": [
    "app.run()"
   ]
  },
  {
   "cell_type": "code",
   "execution_count": 32,
   "metadata": {},
   "outputs": [
    {
     "data": {
      "text/plain": [
       "\u001b[0;31mSignature:\u001b[0m \u001b[0mredirect\u001b[0m\u001b[0;34m(\u001b[0m\u001b[0mlocation\u001b[0m\u001b[0;34m,\u001b[0m \u001b[0mcode\u001b[0m\u001b[0;34m=\u001b[0m\u001b[0;36m302\u001b[0m\u001b[0;34m,\u001b[0m \u001b[0mResponse\u001b[0m\u001b[0;34m=\u001b[0m\u001b[0;32mNone\u001b[0m\u001b[0;34m)\u001b[0m\u001b[0;34m\u001b[0m\u001b[0;34m\u001b[0m\u001b[0m\n",
       "\u001b[0;31mDocstring:\u001b[0m\n",
       "Returns a response object (a WSGI application) that, if called,\n",
       "redirects the client to the target location. Supported codes are\n",
       "301, 302, 303, 305, 307, and 308. 300 is not supported because\n",
       "it's not a real redirect and 304 because it's the answer for a\n",
       "request with a request with defined If-Modified-Since headers.\n",
       "\n",
       ".. versionadded:: 0.6\n",
       "   The location can now be a unicode string that is encoded using\n",
       "   the :func:`iri_to_uri` function.\n",
       "\n",
       ".. versionadded:: 0.10\n",
       "    The class used for the Response object can now be passed in.\n",
       "\n",
       ":param location: the location the response should redirect to.\n",
       ":param code: the redirect status code. defaults to 302.\n",
       ":param class Response: a Response class to use when instantiating a\n",
       "    response. The default is :class:`werkzeug.wrappers.Response` if\n",
       "    unspecified.\n",
       "\u001b[0;31mFile:\u001b[0m      /usr/local/lib/python3.7/site-packages/werkzeug/utils.py\n",
       "\u001b[0;31mType:\u001b[0m      function\n"
      ]
     },
     "metadata": {},
     "output_type": "display_data"
    }
   ],
   "source": [
    "redirect?"
   ]
  },
  {
   "cell_type": "code",
   "execution_count": null,
   "metadata": {},
   "outputs": [],
   "source": []
  }
 ],
 "metadata": {
  "kernelspec": {
   "display_name": "Python 3",
   "language": "python",
   "name": "python3"
  },
  "language_info": {
   "codemirror_mode": {
    "name": "ipython",
    "version": 3
   },
   "file_extension": ".py",
   "mimetype": "text/x-python",
   "name": "python",
   "nbconvert_exporter": "python",
   "pygments_lexer": "ipython3",
   "version": "3.7.2"
  }
 },
 "nbformat": 4,
 "nbformat_minor": 4
}
