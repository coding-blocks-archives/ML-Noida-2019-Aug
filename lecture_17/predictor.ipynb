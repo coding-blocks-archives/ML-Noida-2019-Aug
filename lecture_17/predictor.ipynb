{
 "cells": [
  {
   "cell_type": "code",
   "execution_count": 1,
   "metadata": {},
   "outputs": [],
   "source": [
    "import pickle\n",
    "\n",
    "with open(\"vectorizer.pkl\", \"rb\") as vectorizer_fl:\n",
    "    vectorizer = pickle.load(vectorizer_fl)\n",
    "with open(\"model.pkl\", \"rb\") as model_fl:\n",
    "    model = pickle.load(model_fl)\n",
    "\n",
    "def predict(sent):    \n",
    "    vect = vectorizer.transform([sent])\n",
    "    return model.predict(vect)[0]"
   ]
  },
  {
   "cell_type": "code",
   "execution_count": 8,
   "metadata": {},
   "outputs": [
    {
     "data": {
      "text/plain": [
       "'rotten'"
      ]
     },
     "execution_count": 8,
     "metadata": {},
     "output_type": "execute_result"
    }
   ],
   "source": [
    "# predict(\"You want the movie to stomp and rejoice and cry like a fool; instead it meanders and lollygags, occasionally flaring up, then sputtering again\")"
   ]
  },
  {
   "cell_type": "code",
   "execution_count": null,
   "metadata": {},
   "outputs": [],
   "source": []
  }
 ],
 "metadata": {
  "kernelspec": {
   "display_name": "Python 3",
   "language": "python",
   "name": "python3"
  },
  "language_info": {
   "codemirror_mode": {
    "name": "ipython",
    "version": 3
   },
   "file_extension": ".py",
   "mimetype": "text/x-python",
   "name": "python",
   "nbconvert_exporter": "python",
   "pygments_lexer": "ipython3",
   "version": "3.7.2"
  }
 },
 "nbformat": 4,
 "nbformat_minor": 4
}
