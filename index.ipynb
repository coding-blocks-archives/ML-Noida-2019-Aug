{
 "cells": [
  {
   "cell_type": "code",
   "execution_count": 1,
   "metadata": {},
   "outputs": [
    {
     "name": "stdout",
     "output_type": "stream",
     "text": [
      "[master 2a805f8] l 3\n",
      " 9 files changed, 1593 insertions(+)\n",
      " create mode 100644 .ipynb_checkpoints/Untitled-checkpoint.ipynb\n",
      " create mode 100644 Untitled.ipynb\n",
      " create mode 100644 lecture_03/.ipynb_checkpoints/classes-checkpoint.ipynb\n",
      " create mode 100644 lecture_03/.ipynb_checkpoints/func-checkpoint.ipynb\n",
      " create mode 100644 lecture_03/.ipynb_checkpoints/oop-checkpoint.ipynb\n",
      " create mode 100644 lecture_03/classes.ipynb\n",
      " create mode 100644 lecture_03/func.ipynb\n",
      " create mode 100644 lecture_03/oop.ipynb\n",
      "Enumerating objects: 12, done.\n",
      "Counting objects: 100% (12/12), done.\n",
      "Delta compression using up to 4 threads.\n",
      "Compressing objects: 100% (9/9), done.\n",
      "Writing objects: 100% (9/9), 4.58 KiB | 2.29 MiB/s, done.\n",
      "Total 9 (delta 2), reused 0 (delta 0)\n",
      "remote: Resolving deltas: 100% (2/2), completed with 1 local object.\u001b[K\n",
      "To https://github.com/coding-blocks-archives/ML-Noida-2019-Aug.git\n",
      "   136e2bd..2a805f8  master -> master\n"
     ]
    }
   ],
   "source": [
    "! push \"l 3\""
   ]
  },
  {
   "cell_type": "code",
   "execution_count": null,
   "metadata": {},
   "outputs": [],
   "source": []
  }
 ],
 "metadata": {
  "kernelspec": {
   "display_name": "Python 3",
   "language": "python",
   "name": "python3"
  },
  "language_info": {
   "codemirror_mode": {
    "name": "ipython",
    "version": 3
   },
   "file_extension": ".py",
   "mimetype": "text/x-python",
   "name": "python",
   "nbconvert_exporter": "python",
   "pygments_lexer": "ipython3",
   "version": "3.7.2"
  }
 },
 "nbformat": 4,
 "nbformat_minor": 2
}
