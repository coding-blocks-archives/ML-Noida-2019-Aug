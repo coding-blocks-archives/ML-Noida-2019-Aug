{
  "nbformat": 4,
  "nbformat_minor": 0,
  "metadata": {
    "colab": {
      "name": "rnn_gender.ipynb",
      "provenance": []
    },
    "kernelspec": {
      "name": "python3",
      "display_name": "Python 3"
    }
  },
  "cells": [
    {
      "cell_type": "code",
      "metadata": {
        "id": "ez6ngvBrYYwj",
        "colab_type": "code",
        "colab": {
          "base_uri": "https://localhost:8080/",
          "height": 34
        },
        "outputId": "1844afab-6d1a-43ff-9a41-2fc6d74fb5b3"
      },
      "source": [
        "! mkdir /root/.kaggle\n",
        "! cp kaggle.json /root/.kaggle/kaggle.json"
      ],
      "execution_count": 2,
      "outputs": [
        {
          "output_type": "stream",
          "text": [
            "mkdir: cannot create directory ‘/root/.kaggle’: File exists\n"
          ],
          "name": "stdout"
        }
      ]
    },
    {
      "cell_type": "code",
      "metadata": {
        "id": "fL4RU6ZYYhcQ",
        "colab_type": "code",
        "colab": {}
      },
      "source": [
        "! chmod 600  /root/.kaggle/kaggle.json"
      ],
      "execution_count": 0,
      "outputs": []
    },
    {
      "cell_type": "code",
      "metadata": {
        "id": "Nrql2LtpYsrw",
        "colab_type": "code",
        "colab": {
          "base_uri": "https://localhost:8080/",
          "height": 69
        },
        "outputId": "37ed49c9-d297-41d8-a199-5acf64b972bb"
      },
      "source": [
        "! kaggle datasets download kaggle/us-baby-names"
      ],
      "execution_count": 5,
      "outputs": [
        {
          "output_type": "stream",
          "text": [
            "Downloading us-baby-names.zip to /content\n",
            " 96% 166M/173M [00:03<00:00, 56.3MB/s]\n",
            "100% 173M/173M [00:03<00:00, 48.7MB/s]\n"
          ],
          "name": "stdout"
        }
      ]
    },
    {
      "cell_type": "code",
      "metadata": {
        "id": "HROB_QHaYwCh",
        "colab_type": "code",
        "colab": {
          "base_uri": "https://localhost:8080/",
          "height": 139
        },
        "outputId": "4a9c801e-f2b9-43e2-f3fb-1f3e006b5b55"
      },
      "source": [
        "! unzip us-baby-names.zip"
      ],
      "execution_count": 6,
      "outputs": [
        {
          "output_type": "stream",
          "text": [
            "Archive:  us-baby-names.zip\n",
            "  inflating: NationalNames.csv       \n",
            "  inflating: NationalReadMe.pdf      \n",
            "  inflating: StateNames.csv          \n",
            "  inflating: StateReadMe.pdf         \n",
            "  inflating: database.sqlite         \n",
            "  inflating: hashes.txt              \n"
          ],
          "name": "stdout"
        }
      ]
    },
    {
      "cell_type": "code",
      "metadata": {
        "id": "WRhR-momZCgG",
        "colab_type": "code",
        "colab": {}
      },
      "source": [
        "import pandas as pd"
      ],
      "execution_count": 0,
      "outputs": []
    },
    {
      "cell_type": "code",
      "metadata": {
        "id": "vAP9zI3rZKYu",
        "colab_type": "code",
        "colab": {}
      },
      "source": [
        "nn_names = pd.read_csv(\"NationalNames.csv\")"
      ],
      "execution_count": 0,
      "outputs": []
    },
    {
      "cell_type": "code",
      "metadata": {
        "id": "uv32LR20ZSjs",
        "colab_type": "code",
        "colab": {
          "base_uri": "https://localhost:8080/",
          "height": 34
        },
        "outputId": "5f71d6bb-6f84-429e-f083-9deed871e193"
      },
      "source": [
        "nn_names.columns"
      ],
      "execution_count": 9,
      "outputs": [
        {
          "output_type": "execute_result",
          "data": {
            "text/plain": [
              "Index(['Id', 'Name', 'Year', 'Gender', 'Count'], dtype='object')"
            ]
          },
          "metadata": {
            "tags": []
          },
          "execution_count": 9
        }
      ]
    },
    {
      "cell_type": "code",
      "metadata": {
        "id": "-kZiDSFnZVXo",
        "colab_type": "code",
        "colab": {}
      },
      "source": [
        "names = nn_names[['Name', 'Gender']]"
      ],
      "execution_count": 0,
      "outputs": []
    },
    {
      "cell_type": "code",
      "metadata": {
        "id": "WSKbKyYFZcVC",
        "colab_type": "code",
        "colab": {
          "base_uri": "https://localhost:8080/",
          "height": 34
        },
        "outputId": "4e61d98b-cb36-401c-cf9a-54d48582aa10"
      },
      "source": [
        "names.shape"
      ],
      "execution_count": 11,
      "outputs": [
        {
          "output_type": "execute_result",
          "data": {
            "text/plain": [
              "(1825433, 2)"
            ]
          },
          "metadata": {
            "tags": []
          },
          "execution_count": 11
        }
      ]
    },
    {
      "cell_type": "code",
      "metadata": {
        "id": "m1kQSXNQZeJk",
        "colab_type": "code",
        "colab": {}
      },
      "source": [
        "import string\n",
        "letters = string.ascii_lowercase[:26]"
      ],
      "execution_count": 0,
      "outputs": []
    },
    {
      "cell_type": "code",
      "metadata": {
        "id": "KytHw5i4Z3Vj",
        "colab_type": "code",
        "colab": {}
      },
      "source": [
        "vocab = {}\n",
        "for index, letter in enumerate(letters):\n",
        "  vocab[letter] = index"
      ],
      "execution_count": 0,
      "outputs": []
    },
    {
      "cell_type": "code",
      "metadata": {
        "id": "9NTkytzwaRGz",
        "colab_type": "code",
        "colab": {}
      },
      "source": [
        "names_list = []\n",
        "for name in names.Name:\n",
        "  name_li = []\n",
        "  for letter in name.lower():\n",
        "      if letter in vocab:\n",
        "        name_li.append(vocab[letter])\n",
        "  names_list.append(name_li)"
      ],
      "execution_count": 0,
      "outputs": []
    },
    {
      "cell_type": "code",
      "metadata": {
        "id": "frhMG2iZaSz1",
        "colab_type": "code",
        "colab": {}
      },
      "source": [
        "from keras.preprocessing.sequence import pad_sequences\n",
        "from sklearn.preprocessing import LabelEncoder"
      ],
      "execution_count": 0,
      "outputs": []
    },
    {
      "cell_type": "code",
      "metadata": {
        "id": "3GFGpB4pa9zh",
        "colab_type": "code",
        "colab": {}
      },
      "source": [
        "X = pad_sequences(names_list, maxlen=10)"
      ],
      "execution_count": 0,
      "outputs": []
    },
    {
      "cell_type": "code",
      "metadata": {
        "id": "2rp72-aKbkyX",
        "colab_type": "code",
        "colab": {}
      },
      "source": [
        "le = LabelEncoder()"
      ],
      "execution_count": 0,
      "outputs": []
    },
    {
      "cell_type": "code",
      "metadata": {
        "id": "DLtjYmoNcVE7",
        "colab_type": "code",
        "colab": {}
      },
      "source": [
        "y = le.fit_transform(names.Gender.values).reshape(-1, 1)"
      ],
      "execution_count": 0,
      "outputs": []
    },
    {
      "cell_type": "code",
      "metadata": {
        "id": "KqeSJ9c3cg6O",
        "colab_type": "code",
        "colab": {
          "base_uri": "https://localhost:8080/",
          "height": 34
        },
        "outputId": "6ab16cc7-43ed-4468-d521-3d76ad95712a"
      },
      "source": [
        "y.shape"
      ],
      "execution_count": 34,
      "outputs": [
        {
          "output_type": "execute_result",
          "data": {
            "text/plain": [
              "(1825433, 1)"
            ]
          },
          "metadata": {
            "tags": []
          },
          "execution_count": 34
        }
      ]
    },
    {
      "cell_type": "code",
      "metadata": {
        "id": "EtuP3sBYconS",
        "colab_type": "code",
        "colab": {}
      },
      "source": [
        ""
      ],
      "execution_count": 0,
      "outputs": []
    }
  ]
}