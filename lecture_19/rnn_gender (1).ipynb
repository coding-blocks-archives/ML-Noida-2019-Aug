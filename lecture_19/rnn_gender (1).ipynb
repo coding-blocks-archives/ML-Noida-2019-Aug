{
  "nbformat": 4,
  "nbformat_minor": 0,
  "metadata": {
    "colab": {
      "name": "rnn_gender.ipynb",
      "provenance": []
    },
    "kernelspec": {
      "name": "python3",
      "display_name": "Python 3"
    }
  },
  "cells": [
    {
      "cell_type": "code",
      "metadata": {
        "id": "ez6ngvBrYYwj",
        "colab_type": "code",
        "colab": {}
      },
      "source": [
        "! mkdir /root/.kaggle\n",
        "! cp kaggle.json /root/.kaggle/kaggle.json"
      ],
      "execution_count": 0,
      "outputs": []
    },
    {
      "cell_type": "code",
      "metadata": {
        "id": "fL4RU6ZYYhcQ",
        "colab_type": "code",
        "colab": {}
      },
      "source": [
        "! chmod 600  /root/.kaggle/kaggle.json"
      ],
      "execution_count": 0,
      "outputs": []
    },
    {
      "cell_type": "code",
      "metadata": {
        "id": "Nrql2LtpYsrw",
        "colab_type": "code",
        "outputId": "bec49bb7-bcce-4262-f8ce-faca1b41afd7",
        "colab": {
          "base_uri": "https://localhost:8080/",
          "height": 69
        }
      },
      "source": [
        "! kaggle datasets download kaggle/us-baby-names"
      ],
      "execution_count": 0,
      "outputs": [
        {
          "output_type": "stream",
          "text": [
            "Downloading us-baby-names.zip to /content\n",
            " 94% 163M/173M [00:07<00:00, 25.3MB/s]\n",
            "100% 173M/173M [00:07<00:00, 23.2MB/s]\n"
          ],
          "name": "stdout"
        }
      ]
    },
    {
      "cell_type": "code",
      "metadata": {
        "id": "HROB_QHaYwCh",
        "colab_type": "code",
        "outputId": "2fb6883a-0c5d-4b27-db17-14260e9d1ba1",
        "colab": {
          "base_uri": "https://localhost:8080/",
          "height": 139
        }
      },
      "source": [
        "! unzip us-baby-names.zip"
      ],
      "execution_count": 0,
      "outputs": [
        {
          "output_type": "stream",
          "text": [
            "Archive:  us-baby-names.zip\n",
            "  inflating: NationalNames.csv       \n",
            "  inflating: NationalReadMe.pdf      \n",
            "  inflating: StateNames.csv          \n",
            "  inflating: StateReadMe.pdf         \n",
            "  inflating: database.sqlite         \n",
            "  inflating: hashes.txt              \n"
          ],
          "name": "stdout"
        }
      ]
    },
    {
      "cell_type": "code",
      "metadata": {
        "id": "WRhR-momZCgG",
        "colab_type": "code",
        "colab": {}
      },
      "source": [
        "import pandas as pd"
      ],
      "execution_count": 0,
      "outputs": []
    },
    {
      "cell_type": "code",
      "metadata": {
        "id": "vAP9zI3rZKYu",
        "colab_type": "code",
        "colab": {}
      },
      "source": [
        "nn_names = pd.read_csv(\"NationalNames.csv\")"
      ],
      "execution_count": 0,
      "outputs": []
    },
    {
      "cell_type": "code",
      "metadata": {
        "id": "uv32LR20ZSjs",
        "colab_type": "code",
        "outputId": "1021c885-9825-4a33-b686-bdd26302d490",
        "colab": {
          "base_uri": "https://localhost:8080/",
          "height": 35
        }
      },
      "source": [
        "nn_names.columns"
      ],
      "execution_count": 0,
      "outputs": [
        {
          "output_type": "execute_result",
          "data": {
            "text/plain": [
              "Index(['Id', 'Name', 'Year', 'Gender', 'Count'], dtype='object')"
            ]
          },
          "metadata": {
            "tags": []
          },
          "execution_count": 7
        }
      ]
    },
    {
      "cell_type": "code",
      "metadata": {
        "id": "-kZiDSFnZVXo",
        "colab_type": "code",
        "colab": {}
      },
      "source": [
        "names = nn_names[['Name', 'Gender']]"
      ],
      "execution_count": 0,
      "outputs": []
    },
    {
      "cell_type": "code",
      "metadata": {
        "id": "WSKbKyYFZcVC",
        "colab_type": "code",
        "outputId": "b2699f6f-8e84-444f-a0d2-2b01bae07f96",
        "colab": {
          "base_uri": "https://localhost:8080/",
          "height": 35
        }
      },
      "source": [
        "names.shape"
      ],
      "execution_count": 0,
      "outputs": [
        {
          "output_type": "execute_result",
          "data": {
            "text/plain": [
              "(1825433, 2)"
            ]
          },
          "metadata": {
            "tags": []
          },
          "execution_count": 9
        }
      ]
    },
    {
      "cell_type": "code",
      "metadata": {
        "id": "m1kQSXNQZeJk",
        "colab_type": "code",
        "colab": {}
      },
      "source": [
        "import string\n",
        "letters = string.ascii_lowercase[:26]"
      ],
      "execution_count": 0,
      "outputs": []
    },
    {
      "cell_type": "code",
      "metadata": {
        "id": "KytHw5i4Z3Vj",
        "colab_type": "code",
        "colab": {}
      },
      "source": [
        "vocab = {}\n",
        "for index, letter in enumerate(letters):\n",
        "  vocab[letter] = index + 1"
      ],
      "execution_count": 0,
      "outputs": []
    },
    {
      "cell_type": "code",
      "metadata": {
        "id": "9NTkytzwaRGz",
        "colab_type": "code",
        "colab": {}
      },
      "source": [
        "names_list = []\n",
        "for name in names.Name:\n",
        "  name_li = []\n",
        "  for letter in name.lower():\n",
        "      if letter in vocab:\n",
        "        name_li.append(vocab[letter])\n",
        "  names_list.append(name_li)"
      ],
      "execution_count": 0,
      "outputs": []
    },
    {
      "cell_type": "code",
      "metadata": {
        "id": "frhMG2iZaSz1",
        "colab_type": "code",
        "outputId": "0f06d799-8b19-4131-c579-fdcd4be2aa7d",
        "colab": {
          "base_uri": "https://localhost:8080/",
          "height": 99
        }
      },
      "source": [
        "from keras.preprocessing.sequence import pad_sequences\n",
        "from sklearn.preprocessing import LabelEncoder"
      ],
      "execution_count": 0,
      "outputs": [
        {
          "output_type": "stream",
          "text": [
            "Using TensorFlow backend.\n"
          ],
          "name": "stderr"
        },
        {
          "output_type": "display_data",
          "data": {
            "text/html": [
              "<p style=\"color: red;\">\n",
              "The default version of TensorFlow in Colab will soon switch to TensorFlow 2.x.<br>\n",
              "We recommend you <a href=\"https://www.tensorflow.org/guide/migrate\" target=\"_blank\">upgrade</a> now \n",
              "or ensure your notebook will continue to use TensorFlow 1.x via the <code>%tensorflow_version 1.x</code> magic:\n",
              "<a href=\"https://colab.research.google.com/notebooks/tensorflow_version.ipynb\" target=\"_blank\">more info</a>.</p>\n"
            ],
            "text/plain": [
              "<IPython.core.display.HTML object>"
            ]
          },
          "metadata": {
            "tags": []
          }
        }
      ]
    },
    {
      "cell_type": "code",
      "metadata": {
        "id": "3GFGpB4pa9zh",
        "colab_type": "code",
        "colab": {}
      },
      "source": [
        "X = pad_sequences(names_list, maxlen=10)"
      ],
      "execution_count": 0,
      "outputs": []
    },
    {
      "cell_type": "code",
      "metadata": {
        "id": "2rp72-aKbkyX",
        "colab_type": "code",
        "colab": {}
      },
      "source": [
        "le = LabelEncoder()"
      ],
      "execution_count": 0,
      "outputs": []
    },
    {
      "cell_type": "code",
      "metadata": {
        "id": "DLtjYmoNcVE7",
        "colab_type": "code",
        "colab": {}
      },
      "source": [
        "y = le.fit_transform(names.Gender.values).reshape(-1, 1)"
      ],
      "execution_count": 0,
      "outputs": []
    },
    {
      "cell_type": "code",
      "metadata": {
        "id": "KqeSJ9c3cg6O",
        "colab_type": "code",
        "outputId": "c9ced289-5a1e-49f1-ce7e-28bf2ce1e75e",
        "colab": {
          "base_uri": "https://localhost:8080/",
          "height": 35
        }
      },
      "source": [
        "y.shape"
      ],
      "execution_count": 0,
      "outputs": [
        {
          "output_type": "execute_result",
          "data": {
            "text/plain": [
              "(1825433, 1)"
            ]
          },
          "metadata": {
            "tags": []
          },
          "execution_count": 17
        }
      ]
    },
    {
      "cell_type": "code",
      "metadata": {
        "id": "EtuP3sBYconS",
        "colab_type": "code",
        "colab": {}
      },
      "source": [
        "from keras.layers import Input, LSTM, Dense, Embedding\n",
        "from keras.models import Model"
      ],
      "execution_count": 0,
      "outputs": []
    },
    {
      "cell_type": "code",
      "metadata": {
        "id": "z2fQrM-XeU2p",
        "colab_type": "code",
        "colab": {}
      },
      "source": [
        "in_layer = Input(shape=(10, ))\n",
        "embed = Embedding(27, 3)(in_layer)\n",
        "l1 = LSTM(64)(embed)\n",
        "d1 = Dense(10, activation=\"tanh\")(l1)\n",
        "out = Dense(1, activation=\"sigmoid\")(d1)\n"
      ],
      "execution_count": 0,
      "outputs": []
    },
    {
      "cell_type": "code",
      "metadata": {
        "id": "ELvPRfSmeg9H",
        "colab_type": "code",
        "colab": {}
      },
      "source": [
        "model = Model(in_layer, out)"
      ],
      "execution_count": 0,
      "outputs": []
    },
    {
      "cell_type": "code",
      "metadata": {
        "id": "6gb4ZtJRfSjS",
        "colab_type": "code",
        "colab": {}
      },
      "source": [
        "model.compile(optimizer=\"rmsprop\", loss=\"binary_crossentropy\", metrics=[\"accuracy\"])"
      ],
      "execution_count": 0,
      "outputs": []
    },
    {
      "cell_type": "code",
      "metadata": {
        "id": "4XEnO9vffyxY",
        "colab_type": "code",
        "outputId": "8cf76e5d-c3e4-45a8-d4c3-d06e2200ce73",
        "colab": {
          "base_uri": "https://localhost:8080/",
          "height": 523
        }
      },
      "source": [
        "model.fit(X, y, batch_size=10000, epochs=5, validation_split=0.2)"
      ],
      "execution_count": 0,
      "outputs": [
        {
          "output_type": "stream",
          "text": [
            "WARNING:tensorflow:From /usr/local/lib/python3.6/dist-packages/keras/backend/tensorflow_backend.py:1033: The name tf.assign_add is deprecated. Please use tf.compat.v1.assign_add instead.\n",
            "\n",
            "WARNING:tensorflow:From /usr/local/lib/python3.6/dist-packages/keras/backend/tensorflow_backend.py:1020: The name tf.assign is deprecated. Please use tf.compat.v1.assign instead.\n",
            "\n",
            "WARNING:tensorflow:From /usr/local/lib/python3.6/dist-packages/keras/backend/tensorflow_backend.py:3005: The name tf.Session is deprecated. Please use tf.compat.v1.Session instead.\n",
            "\n",
            "Train on 1460346 samples, validate on 365087 samples\n",
            "Epoch 1/5\n",
            "WARNING:tensorflow:From /usr/local/lib/python3.6/dist-packages/keras/backend/tensorflow_backend.py:190: The name tf.get_default_session is deprecated. Please use tf.compat.v1.get_default_session instead.\n",
            "\n",
            "WARNING:tensorflow:From /usr/local/lib/python3.6/dist-packages/keras/backend/tensorflow_backend.py:197: The name tf.ConfigProto is deprecated. Please use tf.compat.v1.ConfigProto instead.\n",
            "\n",
            "WARNING:tensorflow:From /usr/local/lib/python3.6/dist-packages/keras/backend/tensorflow_backend.py:207: The name tf.global_variables is deprecated. Please use tf.compat.v1.global_variables instead.\n",
            "\n",
            "WARNING:tensorflow:From /usr/local/lib/python3.6/dist-packages/keras/backend/tensorflow_backend.py:216: The name tf.is_variable_initialized is deprecated. Please use tf.compat.v1.is_variable_initialized instead.\n",
            "\n",
            "WARNING:tensorflow:From /usr/local/lib/python3.6/dist-packages/keras/backend/tensorflow_backend.py:223: The name tf.variables_initializer is deprecated. Please use tf.compat.v1.variables_initializer instead.\n",
            "\n",
            "1460346/1460346 [==============================] - 180s 123us/step - loss: 0.5902 - acc: 0.6781 - val_loss: 0.5023 - val_acc: 0.7527\n",
            "Epoch 2/5\n",
            "1460346/1460346 [==============================] - 179s 122us/step - loss: 0.4769 - acc: 0.7710 - val_loss: 0.4717 - val_acc: 0.7796\n",
            "Epoch 3/5\n",
            "1460346/1460346 [==============================] - 176s 121us/step - loss: 0.4637 - acc: 0.7813 - val_loss: 0.4566 - val_acc: 0.7840\n",
            "Epoch 4/5\n",
            "1460346/1460346 [==============================] - 180s 123us/step - loss: 0.4564 - acc: 0.7848 - val_loss: 0.4576 - val_acc: 0.7862\n",
            "Epoch 5/5\n",
            "1460346/1460346 [==============================] - 178s 122us/step - loss: 0.4524 - acc: 0.7876 - val_loss: 0.4635 - val_acc: 0.7810\n"
          ],
          "name": "stdout"
        },
        {
          "output_type": "execute_result",
          "data": {
            "text/plain": [
              "<keras.callbacks.History at 0x7f442d328ba8>"
            ]
          },
          "metadata": {
            "tags": []
          },
          "execution_count": 26
        }
      ]
    },
    {
      "cell_type": "code",
      "metadata": {
        "id": "3uhdhuQIf1Np",
        "colab_type": "code",
        "colab": {}
      },
      "source": [
        "model.evaluate(X, y)"
      ],
      "execution_count": 0,
      "outputs": []
    },
    {
      "cell_type": "code",
      "metadata": {
        "id": "QtLGrjjuhdW5",
        "colab_type": "code",
        "colab": {}
      },
      "source": [
        "names = [\"Meenal\"]\n",
        "\n",
        "names_list = []\n",
        "for name in names:\n",
        "  name_li = []\n",
        "  for letter in name.lower():\n",
        "\n",
        "      if letter in vocab:\n",
        "        name_li.append(vocab[letter])\n",
        "  names_list.append(name_li)"
      ],
      "execution_count": 0,
      "outputs": []
    },
    {
      "cell_type": "code",
      "metadata": {
        "id": "y21WMXxOiYt8",
        "colab_type": "code",
        "colab": {}
      },
      "source": [
        "X_test = pad_sequences(names_list, maxlen=10)"
      ],
      "execution_count": 0,
      "outputs": []
    },
    {
      "cell_type": "code",
      "metadata": {
        "id": "b2TIjOz8iht2",
        "colab_type": "code",
        "colab": {}
      },
      "source": [
        "X_test"
      ],
      "execution_count": 0,
      "outputs": []
    },
    {
      "cell_type": "code",
      "metadata": {
        "id": "I5UzI5wcii1Y",
        "colab_type": "code",
        "colab": {}
      },
      "source": [
        "model.predict(X_test)"
      ],
      "execution_count": 0,
      "outputs": []
    },
    {
      "cell_type": "code",
      "metadata": {
        "id": "7GQwHQ7KjGtc",
        "colab_type": "code",
        "colab": {}
      },
      "source": [
        ""
      ],
      "execution_count": 0,
      "outputs": []
    }
  ]
}