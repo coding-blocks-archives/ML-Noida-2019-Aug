{
 "cells": [
  {
   "cell_type": "code",
   "execution_count": 2,
   "metadata": {
    "collapsed": false
   },
   "outputs": [
    {
     "data": {
      "text/html": [
       "<style>\n",
       "\n",
       ".rendered_html\n",
       "{\n",
       "  color: #2C5494;\n",
       "  font-family: Ubuntu;\n",
       "  font-size: 140%;\n",
       "  line-height: 1.1;\n",
       "  margin: 0.5em 0;\n",
       "  }\n",
       "\n",
       ".talk_title\n",
       "{\n",
       "  color: #498AF3;\n",
       "  font-size: 250%;\n",
       "  font-weight:bold;\n",
       "  line-height: 1.2; \n",
       "  margin: 10px 50px 10px;\n",
       "  }\n",
       "\n",
       ".subtitle\n",
       "{\n",
       "  color: #386BBC;\n",
       "  font-size: 180%;\n",
       "  font-weight:bold;\n",
       "  line-height: 1.2; \n",
       "  margin: 20px 50px 20px;\n",
       "  }\n",
       "\n",
       ".slide-header, p.slide-header\n",
       "{\n",
       "  color: #498AF3;\n",
       "  font-size: 200%;\n",
       "  font-weight:bold;\n",
       "  margin: 0px 20px 10px;\n",
       "  page-break-before: always;\n",
       "  text-align: center;\n",
       "  }\n",
       "\n",
       ".rendered_html h1\n",
       "{\n",
       "  color: #498AF3;\n",
       "  line-height: 1.2; \n",
       "  margin: 0.15em 0em 0.5em;\n",
       "  page-break-before: always;\n",
       "  text-align: center;\n",
       "  }\n",
       "\n",
       "\n",
       ".rendered_html h2\n",
       "{ \n",
       "  color: #386BBC;\n",
       "  line-height: 1.2;\n",
       "  margin: 1.1em 0em 0.5em;\n",
       "  }\n",
       "\n",
       ".rendered_html h3\n",
       "{ \n",
       "  font-size: 100%;\n",
       "  line-height: 1.2;\n",
       "  margin: 1.1em 0em 0.5em;\n",
       "  }\n",
       "\n",
       ".rendered_html li\n",
       "{\n",
       "  line-height: 1.8;\n",
       "  }\n",
       "\n",
       ".input_prompt, .CodeMirror-lines, .output_area\n",
       "{\n",
       "  font-family: Consolas;\n",
       "  font-size: 120%;\n",
       "  }\n",
       "\n",
       ".gap-above\n",
       "{\n",
       "  padding-top: 200px;\n",
       "  }\n",
       "\n",
       ".gap01\n",
       "{\n",
       "  padding-top: 10px;\n",
       "  }\n",
       "\n",
       ".gap05\n",
       "{\n",
       "  padding-top: 50px;\n",
       "  }\n",
       "\n",
       ".gap1\n",
       "{\n",
       "  padding-top: 100px;\n",
       "  }\n",
       "\n",
       ".gap2\n",
       "{\n",
       "  padding-top: 200px;\n",
       "  }\n",
       "\n",
       ".gap3\n",
       "{\n",
       "  padding-top: 300px;\n",
       "  }\n",
       "\n",
       ".emph\n",
       "{\n",
       "  color: #386BBC;\n",
       "  }\n",
       "\n",
       ".warn\n",
       "{\n",
       "  color: red;\n",
       "  }\n",
       "\n",
       ".center\n",
       "{\n",
       "  text-align: center;\n",
       "  }\n",
       "\n",
       ".nb_link\n",
       "{\n",
       "    padding-bottom: 0.5em;\n",
       "}\n",
       "\n",
       "</style>"
      ],
      "text/plain": [
       "<IPython.core.display.HTML object>"
      ]
     },
     "metadata": {},
     "output_type": "display_data"
    }
   ],
   "source": [
    "%run ../00_AdvancedPythonConcepts/talktools.py"
   ]
  },
  {
   "cell_type": "code",
   "execution_count": 1,
   "metadata": {
    "collapsed": false
   },
   "outputs": [
    {
     "name": "stdout",
     "output_type": "stream",
     "text": [
      "Requirement already satisfied (use --upgrade to upgrade): sqlalchemy in /Users/jbloom/anaconda/envs/seminar/lib/python3.5/site-packages\r\n"
     ]
    }
   ],
   "source": [
    "# some of this notebook from http://bit.ly/15WsUXU\n",
    "!pip install sqlalchemy"
   ]
  },
  {
   "cell_type": "markdown",
   "metadata": {},
   "source": [
    "# Core"
   ]
  },
  {
   "cell_type": "markdown",
   "metadata": {},
   "source": [
    "### Create an engine. For this demo we're using SQLite in memory, and echoing the SQL as it's executed. "
   ]
  },
  {
   "cell_type": "code",
   "execution_count": 3,
   "metadata": {
    "collapsed": false
   },
   "outputs": [],
   "source": [
    "from sqlalchemy import create_engine\n",
    "engine = create_engine('sqlite:///:memory:')"
   ]
  },
  {
   "cell_type": "markdown",
   "metadata": {},
   "source": [
    "### Let's declare a basic table"
   ]
  },
  {
   "cell_type": "code",
   "execution_count": 4,
   "metadata": {
    "collapsed": false
   },
   "outputs": [
    {
     "data": {
      "text/plain": [
       "Table('vehicles', MetaData(bind=None), Column('model', String(), table=<vehicles>), Column('registration', String(), table=<vehicles>), Column('odometer', Integer(), table=<vehicles>), Column('last_service', Date(), table=<vehicles>), schema=None)"
      ]
     },
     "execution_count": 4,
     "metadata": {},
     "output_type": "execute_result"
    }
   ],
   "source": [
    "from sqlalchemy import *\n",
    "metadata = MetaData()\n",
    "\n",
    "vehicles_table = Table('vehicles', metadata,\n",
    "\t\t\t\t       Column('model', String),\n",
    "                       Column('registration', String),\n",
    "                       Column('odometer', Integer),\n",
    "                       Column('last_service', Date),)\n",
    "vehicles_table"
   ]
  },
  {
   "cell_type": "markdown",
   "metadata": {},
   "source": [
    "### The table doesn't exist yet, so let's create it"
   ]
  },
  {
   "cell_type": "code",
   "execution_count": 5,
   "metadata": {
    "collapsed": false
   },
   "outputs": [],
   "source": [
    "vehicles_table.create(bind=engine)"
   ]
  },
  {
   "cell_type": "markdown",
   "metadata": {},
   "source": [
    "### SQLAlchemy core's main job is to generate SQL"
   ]
  },
  {
   "cell_type": "code",
   "execution_count": 7,
   "metadata": {
    "collapsed": false
   },
   "outputs": [
    {
     "name": "stdout",
     "output_type": "stream",
     "text": [
      "type: <class 'sqlalchemy.sql.selectable.Select'>\n",
      "query: SELECT vehicles.model, vehicles.registration, vehicles.odometer, vehicles.last_service \n",
      "FROM vehicles\n"
     ]
    }
   ],
   "source": [
    "query = vehicles_table.select()\n",
    "print(\"type:\",type(query))\n",
    "print(\"query:\",query)"
   ]
  },
  {
   "cell_type": "markdown",
   "metadata": {},
   "source": [
    "### The _select_ above is a shortcut for..."
   ]
  },
  {
   "cell_type": "code",
   "execution_count": 8,
   "metadata": {
    "collapsed": false
   },
   "outputs": [
    {
     "name": "stdout",
     "output_type": "stream",
     "text": [
      "type: <class 'sqlalchemy.sql.selectable.Select'>\n",
      "query: SELECT vehicles.model, vehicles.registration, vehicles.odometer, vehicles.last_service \n",
      "FROM vehicles\n"
     ]
    }
   ],
   "source": [
    "query = select([vehicles_table])\n",
    "print(\"type:\",type(query))\n",
    "print(\"query:\",query)"
   ]
  },
  {
   "cell_type": "markdown",
   "metadata": {},
   "source": [
    "### Access the table's column metadata"
   ]
  },
  {
   "cell_type": "code",
   "execution_count": 9,
   "metadata": {
    "collapsed": false
   },
   "outputs": [
    {
     "data": {
      "text/plain": [
       "Column('odometer', Integer(), table=<vehicles>)"
      ]
     },
     "execution_count": 9,
     "metadata": {},
     "output_type": "execute_result"
    }
   ],
   "source": [
    "vehicles_table.c.odometer"
   ]
  },
  {
   "cell_type": "markdown",
   "metadata": {},
   "source": [
    "### Using method chaining we can add to the query. Note how column operators are overloaded to produce SQL"
   ]
  },
  {
   "cell_type": "code",
   "execution_count": 10,
   "metadata": {
    "collapsed": false
   },
   "outputs": [
    {
     "name": "stdout",
     "output_type": "stream",
     "text": [
      "SELECT vehicles.model, vehicles.registration, vehicles.odometer, vehicles.last_service \n",
      "FROM vehicles \n",
      "WHERE vehicles.odometer < :odometer_1\n"
     ]
    }
   ],
   "source": [
    "query = query.where(vehicles_table.c.odometer < 10000)\n",
    "print(query)"
   ]
  },
  {
   "cell_type": "markdown",
   "metadata": {},
   "source": [
    "### Using the engine created earlier, let's now run our query"
   ]
  },
  {
   "cell_type": "code",
   "execution_count": 11,
   "metadata": {
    "collapsed": false
   },
   "outputs": [],
   "source": [
    "results = engine.execute(query)\n",
    "for row in results:\n",
    "    print(row,end=\" \")"
   ]
  },
  {
   "cell_type": "markdown",
   "metadata": {},
   "source": [
    "### No results, let's insert some rows"
   ]
  },
  {
   "cell_type": "code",
   "execution_count": 12,
   "metadata": {
    "collapsed": false
   },
   "outputs": [
    {
     "name": "stdout",
     "output_type": "stream",
     "text": [
      "2 rows inserted\n"
     ]
    }
   ],
   "source": [
    "values = [\n",
    "    { 'model': 'Ford Festiva', 'registration': 'HAX00R', 'odometer': 3141 },\n",
    "    { 'model': 'Lotus Elise', 'registration': 'DELEG8', 'odometer': 31415 },\n",
    "]\n",
    "rows = engine.execute(vehicles_table.insert(), list(values)).rowcount\n",
    "print(rows, \"rows inserted\")"
   ]
  },
  {
   "cell_type": "markdown",
   "metadata": {},
   "source": [
    "### Try our query again"
   ]
  },
  {
   "cell_type": "code",
   "execution_count": 13,
   "metadata": {
    "collapsed": false
   },
   "outputs": [
    {
     "name": "stdout",
     "output_type": "stream",
     "text": [
      "('Ford Festiva', 'HAX00R', 3141, None) "
     ]
    }
   ],
   "source": [
    "results = engine.execute(query)\n",
    "for row in results:\n",
    "    print(row,end=\" \")"
   ]
  },
  {
   "cell_type": "markdown",
   "metadata": {},
   "source": [
    "### Trying something more elaborate, let's see the SQL for adding up the odometer readings by model "
   ]
  },
  {
   "cell_type": "code",
   "execution_count": 14,
   "metadata": {
    "collapsed": false
   },
   "outputs": [
    {
     "name": "stdout",
     "output_type": "stream",
     "text": [
      "SELECT vehicles.model, sum(vehicles.odometer) AS total_km \n",
      "FROM vehicles GROUP BY vehicles.model\n"
     ]
    }
   ],
   "source": [
    "print(select([vehicles_table.c.model, \n",
    "              func.sum(vehicles_table.c.odometer).label('total_km')\n",
    "             ]).group_by(vehicles_table.c.model))"
   ]
  },
  {
   "cell_type": "markdown",
   "metadata": {},
   "source": [
    "### There's much much more we can do. Literal SQL, functions, joins, aliases, unions, ..."
   ]
  },
  {
   "cell_type": "markdown",
   "metadata": {},
   "source": [
    "# ORM"
   ]
  },
  {
   "cell_type": "code",
   "execution_count": 15,
   "metadata": {
    "collapsed": false
   },
   "outputs": [],
   "source": [
    "from sqlalchemy.ext.declarative import declarative_base\n",
    "from sqlalchemy.orm import relationship\n",
    "Base = declarative_base()\n",
    "\n",
    "class Person(Base):\n",
    "    __tablename__ = 'people' # Choose your own table name!\n",
    "    id = Column(Integer, primary_key=True)\n",
    "    first_name = Column(String)\n",
    "    last_name = Column(String)\n",
    "    email = Column(String)\n",
    "    birthday = Column(DateTime)\n",
    "    appointments = relationship(\"Appointment\", backref=\"person\")\n",
    "\n",
    "    def __init__(self, firstname, lastname, email):\n",
    "        \"\"\" Constructor is optional \"\"\"\n",
    "        self.first_name = firstname\n",
    "        self.last_name = lastname\n",
    "        self.email = email\n",
    "\n",
    "class Appointment(Base):\n",
    "    __tablename__ = 'appointments'\n",
    "    id = Column(Integer, primary_key=True)\n",
    "    person_id = Column(Integer, ForeignKey('people.id')) # <-- Table name\n",
    "    meeting_at = Column(DateTime)\n",
    "    notes = Column(String)"
   ]
  },
  {
   "cell_type": "code",
   "execution_count": 18,
   "metadata": {
    "collapsed": false
   },
   "outputs": [
    {
     "name": "stdout",
     "output_type": "stream",
     "text": [
      "Underlying table object:\n",
      " Table('people', MetaData(bind=None), Column('id', Integer(), table=<people>, primary_key=True, nullable=False), Column('first_name', String(), table=<people>), Column('last_name', String(), table=<people>), Column('email', String(), table=<people>), Column('birthday', DateTime(), table=<people>), schema=None)\n",
      "******************************\n",
      "Mapper that's taking care of things:\n",
      " <Mapper at 0x10527e278; Person>\n",
      "******************************\n",
      "What does the declarative base know?\n",
      " immutabledict({'appointments': Table('appointments', MetaData(bind=None), Column('id', Integer(), table=<appointments>, primary_key=True, nullable=False), Column('person_id', Integer(), ForeignKey('people.id'), table=<appointments>), Column('meeting_at', DateTime(), table=<appointments>), Column('notes', String(), table=<appointments>), schema=None), 'people': Table('people', MetaData(bind=None), Column('id', Integer(), table=<people>, primary_key=True, nullable=False), Column('first_name', String(), table=<people>), Column('last_name', String(), table=<people>), Column('email', String(), table=<people>), Column('birthday', DateTime(), table=<people>), schema=None)})\n"
     ]
    }
   ],
   "source": [
    "print(\"Underlying table object:\\n\", repr(Person.__table__))\n",
    "print(\"*\"*30)\n",
    "print(\"Mapper that's taking care of things:\\n\", repr(Person.__mapper__))\n",
    "print(\"*\"*30)\n",
    "print(\"What does the declarative base know?\\n\", repr(Base.metadata.tables))"
   ]
  },
  {
   "cell_type": "markdown",
   "metadata": {},
   "source": [
    "### Create the table!"
   ]
  },
  {
   "cell_type": "code",
   "execution_count": 19,
   "metadata": {
    "collapsed": false
   },
   "outputs": [],
   "source": [
    "Base.metadata.create_all(engine) "
   ]
  },
  {
   "cell_type": "markdown",
   "metadata": {},
   "source": [
    "### Now let's create a session"
   ]
  },
  {
   "cell_type": "code",
   "execution_count": 20,
   "metadata": {
    "collapsed": false
   },
   "outputs": [],
   "source": [
    "from sqlalchemy.orm import sessionmaker\n",
    "Session = sessionmaker(bind=engine)\n",
    "session = Session()\n",
    "\n",
    "p = Person('newfirst', 'newlast', 'new@example.com');\n",
    "session.add(p)"
   ]
  },
  {
   "cell_type": "markdown",
   "metadata": {},
   "source": [
    "### The query below will cause the above addition to be automatically flushed."
   ]
  },
  {
   "cell_type": "code",
   "execution_count": 21,
   "metadata": {
    "collapsed": false
   },
   "outputs": [
    {
     "name": "stdout",
     "output_type": "stream",
     "text": [
      "newfirst\n"
     ]
    }
   ],
   "source": [
    "for p in session.query(Person):\n",
    "    print(p.first_name)"
   ]
  },
  {
   "cell_type": "markdown",
   "metadata": {},
   "source": [
    "### The ORM uses the underlying core to generate SQL"
   ]
  },
  {
   "cell_type": "code",
   "execution_count": 22,
   "metadata": {
    "collapsed": false
   },
   "outputs": [
    {
     "name": "stdout",
     "output_type": "stream",
     "text": [
      "SELECT people.id AS people_id, people.first_name AS people_first_name, people.last_name AS people_last_name, people.email AS people_email, people.birthday AS people_birthday \n",
      "FROM people \n",
      "WHERE people.id = :id_1\n"
     ]
    }
   ],
   "source": [
    "print(session.query(Person).filter_by(id=1))"
   ]
  },
  {
   "cell_type": "markdown",
   "metadata": {},
   "source": [
    "### Session queries can be built up to retrieve specific elements"
   ]
  },
  {
   "cell_type": "code",
   "execution_count": 23,
   "metadata": {
    "collapsed": false
   },
   "outputs": [
    {
     "name": "stdout",
     "output_type": "stream",
     "text": [
      "Person object: <__main__.Person object at 0x104f72d68>\n",
      "Selected attributes: newfirst new@example.com\n"
     ]
    }
   ],
   "source": [
    "for row in session.query(Person, Person.first_name, Person.email.label('address')).filter_by(id=1):\n",
    "    print(\"Person object:\", row.Person)\n",
    "    print(\"Selected attributes:\", row.first_name, row.address)"
   ]
  },
  {
   "cell_type": "markdown",
   "metadata": {},
   "source": [
    "### The session keeps track of objects and their state, so the exact same object is returned even via another query."
   ]
  },
  {
   "cell_type": "code",
   "execution_count": 24,
   "metadata": {
    "collapsed": false
   },
   "outputs": [
    {
     "data": {
      "text/plain": [
       "True"
      ]
     },
     "execution_count": 24,
     "metadata": {},
     "output_type": "execute_result"
    }
   ],
   "source": [
    "queried_person = session.query(Person).filter_by(first_name='newfirst').first()\n",
    "\n",
    "p is queried_person"
   ]
  },
  {
   "cell_type": "markdown",
   "metadata": {},
   "source": [
    "### Queries are generative"
   ]
  },
  {
   "cell_type": "code",
   "execution_count": 25,
   "metadata": {
    "collapsed": false
   },
   "outputs": [
    {
     "name": "stdout",
     "output_type": "stream",
     "text": [
      "SELECT people.id AS people_id, people.first_name AS people_first_name, people.last_name AS people_last_name, people.email AS people_email, people.birthday AS people_birthday \n",
      "FROM people \n",
      "WHERE people.first_name NOT IN (:first_name_1, :first_name_2, :first_name_3)\n"
     ]
    }
   ],
   "source": [
    "query = session.query(Person).filter(~Person.first_name.in_(['ed', 'wendy', 'jack']))\n",
    "print(query)"
   ]
  },
  {
   "cell_type": "markdown",
   "metadata": {},
   "source": [
    "### Additional filter criteria is added with an AND operator"
   ]
  },
  {
   "cell_type": "code",
   "execution_count": 26,
   "metadata": {
    "collapsed": false
   },
   "outputs": [
    {
     "name": "stdout",
     "output_type": "stream",
     "text": [
      "SELECT people.id AS people_id, people.first_name AS people_first_name, people.last_name AS people_last_name, people.email AS people_email, people.birthday AS people_birthday \n",
      "FROM people \n",
      "WHERE people.first_name NOT IN (:first_name_1, :first_name_2, :first_name_3) AND people.birthday < :birthday_1\n"
     ]
    }
   ],
   "source": [
    "from datetime import datetime, timedelta\n",
    "query = query.filter(Person.birthday < datetime.now() - timedelta(days=1))\n",
    "print(query)"
   ]
  },
  {
   "cell_type": "markdown",
   "metadata": {},
   "source": [
    "# Relationships"
   ]
  },
  {
   "cell_type": "markdown",
   "metadata": {},
   "source": [
    "### Let's create an appointment related to our person"
   ]
  },
  {
   "cell_type": "code",
   "execution_count": 27,
   "metadata": {
    "collapsed": false
   },
   "outputs": [],
   "source": [
    "appointment = Appointment(person=session.query(Person).first(),\n",
    "                          notes=\"Appointment date TBC\")\n",
    "session.add(appointment)"
   ]
  },
  {
   "cell_type": "markdown",
   "metadata": {},
   "source": [
    "### Now we can query from either end of the relationship"
   ]
  },
  {
   "cell_type": "code",
   "execution_count": 28,
   "metadata": {
    "collapsed": false
   },
   "outputs": [
    {
     "name": "stdout",
     "output_type": "stream",
     "text": [
      "<__main__.Person object at 0x104f72d68>\n"
     ]
    }
   ],
   "source": [
    "for a in session.query(Appointment):\n",
    "    print(a.person)"
   ]
  },
  {
   "cell_type": "code",
   "execution_count": 29,
   "metadata": {
    "collapsed": false
   },
   "outputs": [
    {
     "name": "stdout",
     "output_type": "stream",
     "text": [
      "[<__main__.Appointment object at 0x104f7e400>]\n"
     ]
    }
   ],
   "source": [
    "for p in session.query(Person):\n",
    "    print(p.appointments)"
   ]
  },
  {
   "cell_type": "code",
   "execution_count": null,
   "metadata": {
    "collapsed": false
   },
   "outputs": [],
   "source": []
  }
 ],
 "metadata": {
  "kernelspec": {
   "display_name": "Python 3",
   "language": "python",
   "name": "python3"
  },
  "language_info": {
   "codemirror_mode": {
    "name": "ipython",
    "version": 3
   },
   "file_extension": ".py",
   "mimetype": "text/x-python",
   "name": "python",
   "nbconvert_exporter": "python",
   "pygments_lexer": "ipython3",
   "version": "3.5.2"
  }
 },
 "nbformat": 4,
 "nbformat_minor": 0
}
