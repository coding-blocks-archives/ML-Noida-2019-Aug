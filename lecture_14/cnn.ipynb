{
 "cells": [
  {
   "cell_type": "code",
   "execution_count": 1,
   "metadata": {},
   "outputs": [
    {
     "name": "stderr",
     "output_type": "stream",
     "text": [
      "Using TensorFlow backend.\n"
     ]
    }
   ],
   "source": [
    "from keras.models import Model\n",
    "from keras.layers import Dense, Input, Conv2D, MaxPool2D, Flatten, GlobalAveragePooling2D\n",
    "from keras.losses import categorical_crossentropy\n",
    "from keras.optimizers import adam\n",
    "from sklearn.model_selection import train_test_split\n",
    "\n",
    "import matplotlib.pyplot as plt\n",
    "import numpy as np\n",
    "from keras.preprocessing.image import load_img\n",
    "from sklearn.preprocessing import OneHotEncoder"
   ]
  },
  {
   "cell_type": "code",
   "execution_count": 2,
   "metadata": {},
   "outputs": [],
   "source": [
    "mnist = np.load(\"../datasets/mnist_train_small.npy\")"
   ]
  },
  {
   "cell_type": "code",
   "execution_count": 3,
   "metadata": {},
   "outputs": [],
   "source": [
    "X, y = mnist[:, 1:].reshape(-1, 28, 28, 1), mnist[:, 0]"
   ]
  },
  {
   "cell_type": "code",
   "execution_count": 4,
   "metadata": {},
   "outputs": [],
   "source": [
    "ohe = OneHotEncoder(categories=\"auto\")"
   ]
  },
  {
   "cell_type": "code",
   "execution_count": 5,
   "metadata": {},
   "outputs": [
    {
     "data": {
      "text/plain": [
       "array([0, 1, 2, 3, 4, 5, 6, 7, 8, 9], dtype=uint8)"
      ]
     },
     "execution_count": 5,
     "metadata": {},
     "output_type": "execute_result"
    }
   ],
   "source": [
    "np.unique(y)"
   ]
  },
  {
   "cell_type": "code",
   "execution_count": null,
   "metadata": {},
   "outputs": [],
   "source": []
  },
  {
   "cell_type": "code",
   "execution_count": 6,
   "metadata": {},
   "outputs": [],
   "source": [
    "y_hot = ohe.fit_transform(y.reshape(-1, 1))"
   ]
  },
  {
   "cell_type": "code",
   "execution_count": 7,
   "metadata": {},
   "outputs": [
    {
     "data": {
      "text/plain": [
       "(19999,)"
      ]
     },
     "execution_count": 7,
     "metadata": {},
     "output_type": "execute_result"
    }
   ],
   "source": [
    "y.shape"
   ]
  },
  {
   "cell_type": "code",
   "execution_count": null,
   "metadata": {},
   "outputs": [],
   "source": []
  },
  {
   "cell_type": "code",
   "execution_count": 16,
   "metadata": {},
   "outputs": [],
   "source": [
    "in_layer = Input((28,28, 1))\n",
    "conv1 = Conv2D(16, (3, 3))(in_layer)\n",
    "pool1 = MaxPool2D()(conv1)\n",
    "conv2 = Conv2D(32, (3, 3))(pool1)\n",
    "pool2 = MaxPool2D()(conv2)\n",
    "flat = Flatten()(pool2)\n",
    "d1 = Dense(400, activation=\"relu\")(flat)\n",
    "d2 = Dense(200, activation=\"relu\")(d1)\n",
    "d3 = Dense(100, activation=\"relu\")(d2)\n",
    "out = Dense(10, activation=\"softmax\")(d3)"
   ]
  },
  {
   "cell_type": "code",
   "execution_count": 17,
   "metadata": {},
   "outputs": [],
   "source": [
    "model = Model(inputs=[in_layer], outputs=[out])"
   ]
  },
  {
   "cell_type": "code",
   "execution_count": 18,
   "metadata": {},
   "outputs": [
    {
     "name": "stdout",
     "output_type": "stream",
     "text": [
      "_________________________________________________________________\n",
      "Layer (type)                 Output Shape              Param #   \n",
      "=================================================================\n",
      "input_3 (InputLayer)         (None, 28, 28, 1)         0         \n",
      "_________________________________________________________________\n",
      "conv2d_5 (Conv2D)            (None, 26, 26, 16)        160       \n",
      "_________________________________________________________________\n",
      "max_pooling2d_5 (MaxPooling2 (None, 13, 13, 16)        0         \n",
      "_________________________________________________________________\n",
      "conv2d_6 (Conv2D)            (None, 11, 11, 32)        4640      \n",
      "_________________________________________________________________\n",
      "max_pooling2d_6 (MaxPooling2 (None, 5, 5, 32)          0         \n",
      "_________________________________________________________________\n",
      "flatten_3 (Flatten)          (None, 800)               0         \n",
      "_________________________________________________________________\n",
      "dense_9 (Dense)              (None, 400)               320400    \n",
      "_________________________________________________________________\n",
      "dense_10 (Dense)             (None, 200)               80200     \n",
      "_________________________________________________________________\n",
      "dense_11 (Dense)             (None, 100)               20100     \n",
      "_________________________________________________________________\n",
      "dense_12 (Dense)             (None, 10)                1010      \n",
      "=================================================================\n",
      "Total params: 426,510\n",
      "Trainable params: 426,510\n",
      "Non-trainable params: 0\n",
      "_________________________________________________________________\n"
     ]
    }
   ],
   "source": [
    "model.summary()"
   ]
  },
  {
   "cell_type": "code",
   "execution_count": 21,
   "metadata": {},
   "outputs": [],
   "source": [
    "X_train, X_test, y_train, y_test = train_test_split(\n",
    "...     X, y_hot, test_size=0.33, random_state=42)"
   ]
  },
  {
   "cell_type": "code",
   "execution_count": null,
   "metadata": {},
   "outputs": [],
   "source": []
  },
  {
   "cell_type": "code",
   "execution_count": 22,
   "metadata": {},
   "outputs": [],
   "source": [
    "model.compile(optimizer=\"adam\", loss=\"categorical_crossentropy\", metrics=[\"accuracy\"])"
   ]
  },
  {
   "cell_type": "code",
   "execution_count": 23,
   "metadata": {},
   "outputs": [
    {
     "name": "stdout",
     "output_type": "stream",
     "text": [
      "WARNING:tensorflow:From /usr/local/lib/python3.7/site-packages/tensorflow/python/ops/math_ops.py:3066: to_int32 (from tensorflow.python.ops.math_ops) is deprecated and will be removed in a future version.\n",
      "Instructions for updating:\n",
      "Use tf.cast instead.\n",
      "Epoch 1/10\n",
      "13399/13399 [==============================] - 4s 322us/step - loss: 10.1407 - acc: 0.3492\n",
      "Epoch 2/10\n",
      "13399/13399 [==============================] - 4s 275us/step - loss: 7.4430 - acc: 0.5188\n",
      "Epoch 3/10\n",
      "13399/13399 [==============================] - 3s 248us/step - loss: 4.1969 - acc: 0.6959\n",
      "Epoch 4/10\n",
      "13399/13399 [==============================] - 3s 250us/step - loss: 1.4315 - acc: 0.8696\n",
      "Epoch 5/10\n",
      "13399/13399 [==============================] - 3s 248us/step - loss: 0.1435 - acc: 0.9683\n",
      "Epoch 6/10\n",
      "13399/13399 [==============================] - 4s 266us/step - loss: 0.0568 - acc: 0.9872\n",
      "Epoch 7/10\n",
      "13399/13399 [==============================] - 3s 251us/step - loss: 0.0278 - acc: 0.9949\n",
      "Epoch 8/10\n",
      "13399/13399 [==============================] - 3s 251us/step - loss: 0.0139 - acc: 0.9982\n",
      "Epoch 9/10\n",
      "13399/13399 [==============================] - 4s 266us/step - loss: 0.0099 - acc: 0.9996\n",
      "Epoch 10/10\n",
      "13399/13399 [==============================] - 3s 247us/step - loss: 0.0077 - acc: 0.9996\n"
     ]
    },
    {
     "data": {
      "text/plain": [
       "<keras.callbacks.History at 0x1333f7978>"
      ]
     },
     "execution_count": 23,
     "metadata": {},
     "output_type": "execute_result"
    }
   ],
   "source": [
    "model.fit(X_train, y_train, epochs=10, batch_size=500)"
   ]
  },
  {
   "cell_type": "code",
   "execution_count": 24,
   "metadata": {},
   "outputs": [
    {
     "name": "stdout",
     "output_type": "stream",
     "text": [
      "6600/6600 [==============================] - 1s 113us/step\n"
     ]
    },
    {
     "data": {
      "text/plain": [
       "[0.13833898222107427, 0.968939393939394]"
      ]
     },
     "execution_count": 24,
     "metadata": {},
     "output_type": "execute_result"
    }
   ],
   "source": [
    "model.evaluate(X_test, y_test)"
   ]
  },
  {
   "cell_type": "code",
   "execution_count": 27,
   "metadata": {},
   "outputs": [
    {
     "data": {
      "text/plain": [
       "6600"
      ]
     },
     "execution_count": 27,
     "metadata": {},
     "output_type": "execute_result"
    }
   ],
   "source": [
    "len(X_test)"
   ]
  },
  {
   "cell_type": "code",
   "execution_count": 34,
   "metadata": {},
   "outputs": [
    {
     "data": {
      "text/plain": [
       "array([[1.74525965e-04, 8.13968703e-02, 1.91361591e-01, 2.80388370e-02,\n",
       "        1.70770130e-04, 7.48390303e-05, 1.01205305e-05, 6.78323805e-01,\n",
       "        1.31933847e-02, 7.25531485e-03],\n",
       "       [4.20304023e-05, 1.85357362e-06, 1.88316280e-05, 1.57456045e-04,\n",
       "        1.25160863e-04, 3.57177523e-05, 1.34219036e-07, 9.96983945e-01,\n",
       "        4.19347725e-06, 2.63069733e-03],\n",
       "       [8.59716594e-01, 1.96329820e-05, 3.83571051e-02, 3.45081300e-03,\n",
       "        2.67470349e-03, 4.77958843e-03, 9.38737416e-04, 6.77116390e-04,\n",
       "        5.33218309e-02, 3.60638984e-02],\n",
       "       [1.46377943e-05, 1.55161764e-03, 6.09104209e-05, 2.19617086e-03,\n",
       "        1.52033530e-02, 1.29322114e-04, 3.35764598e-05, 1.02782920e-02,\n",
       "        1.33768516e-03, 9.69194353e-01],\n",
       "       [5.23961535e-06, 3.03199398e-04, 2.26921657e-05, 2.72703212e-04,\n",
       "        9.64219868e-01, 1.45027647e-03, 2.96546903e-04, 1.96148781e-03,\n",
       "        8.65152664e-03, 2.28164010e-02],\n",
       "       [1.46184606e-03, 2.10654645e-04, 1.67652561e-05, 8.79297848e-04,\n",
       "        1.02148834e-03, 9.66979146e-01, 2.71459776e-05, 2.61989627e-02,\n",
       "        8.06362077e-04, 2.39838450e-03],\n",
       "       [2.28119029e-06, 1.67259459e-05, 3.63867912e-05, 3.06811562e-05,\n",
       "        9.90650415e-01, 3.02629138e-04, 1.92847525e-04, 1.34052942e-03,\n",
       "        5.55865874e-04, 6.87172357e-03],\n",
       "       [1.25677354e-04, 6.18648073e-06, 4.27042454e-04, 6.25309212e-06,\n",
       "        8.68497125e-04, 1.18765587e-04, 9.98344660e-01, 1.64214885e-06,\n",
       "        7.55333385e-05, 2.57915108e-05],\n",
       "       [9.17655925e-05, 6.45399450e-06, 2.87218398e-04, 1.99057977e-04,\n",
       "        2.96811238e-02, 1.00819198e-04, 2.35843945e-05, 2.63910508e-03,\n",
       "        2.44847615e-03, 9.64522362e-01],\n",
       "       [3.19096871e-04, 1.29628368e-03, 9.82323110e-01, 1.41959470e-02,\n",
       "        1.78594371e-06, 3.33336357e-04, 3.87373613e-04, 1.70810599e-05,\n",
       "        1.11366727e-03, 1.23861992e-05]], dtype=float32)"
      ]
     },
     "execution_count": 34,
     "metadata": {},
     "output_type": "execute_result"
    }
   ],
   "source": [
    "model.predict(X_test[:10])"
   ]
  },
  {
   "cell_type": "code",
   "execution_count": 32,
   "metadata": {},
   "outputs": [
    {
     "data": {
      "text/plain": [
       "matrix([[7],\n",
       "        [7],\n",
       "        [0],\n",
       "        [9],\n",
       "        [4],\n",
       "        [5],\n",
       "        [4],\n",
       "        [6],\n",
       "        [9],\n",
       "        [2]])"
      ]
     },
     "execution_count": 32,
     "metadata": {},
     "output_type": "execute_result"
    }
   ],
   "source": [
    "y_test[:10].todense().argmax(axis=1)"
   ]
  },
  {
   "cell_type": "code",
   "execution_count": 32,
   "metadata": {},
   "outputs": [
    {
     "data": {
      "text/plain": [
       "array([[4, 5, 0, 6, 9, 8, 3, 1, 2, 7]])"
      ]
     },
     "execution_count": 32,
     "metadata": {},
     "output_type": "execute_result"
    },
    {
     "data": {
      "image/png": "[encoded data removed]",
      "text/plain": [
       "<Figure size 432x288 with 1 Axes>"
      ]
     },
     "metadata": {
      "needs_background": "light"
     },
     "output_type": "display_data"
    }
   ],
   "source": [
    "img = load_img(\"../datasets/nums/seven.jpeg\", target_size=(28, 28), grayscale=True)\n",
    "type(img)\n",
    "plane = (np.array(img) < 100).astype(int) * 255\n",
    "plt.imshow(plane, cmap=\"gray\")\n",
    "model.predict(np.array([plane.reshape(28, 28, 1)])).argsort(axis=1)"
   ]
  },
  {
   "cell_type": "code",
   "execution_count": null,
   "metadata": {},
   "outputs": [],
   "source": []
  }
 ],
 "metadata": {
  "kernelspec": {
   "display_name": "Python 3",
   "language": "python",
   "name": "python3"
  },
  "language_info": {
   "codemirror_mode": {
    "name": "ipython",
    "version": 3
   },
   "file_extension": ".py",
   "mimetype": "text/x-python",
   "name": "python",
   "nbconvert_exporter": "python",
   "pygments_lexer": "ipython3",
   "version": "3.7.2"
  }
 },
 "nbformat": 4,
 "nbformat_minor": 4
}
