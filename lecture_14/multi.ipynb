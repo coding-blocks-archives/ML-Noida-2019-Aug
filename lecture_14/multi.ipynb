{
 "cells": [
  {
   "cell_type": "code",
   "execution_count": 2,
   "metadata": {},
   "outputs": [
    {
     "name": "stderr",
     "output_type": "stream",
     "text": [
      "Using TensorFlow backend.\n"
     ]
    }
   ],
   "source": [
    "from keras.models import Model\n",
    "from keras.layers import Dense, Input\n",
    "from keras.losses import categorical_crossentropy\n",
    "from keras.optimizers import adam\n",
    "from sklearn.model_selection import train_test_split\n",
    "\n",
    "import matplotlib.pyplot as plt\n",
    "import numpy as np\n",
    "from keras.preprocessing.image import load_img\n",
    "from sklearn.preprocessing import OneHotEncoder"
   ]
  },
  {
   "cell_type": "code",
   "execution_count": 3,
   "metadata": {},
   "outputs": [],
   "source": [
    "mnist = np.load(\"../datasets/mnist_train_small.npy\")"
   ]
  },
  {
   "cell_type": "code",
   "execution_count": 4,
   "metadata": {},
   "outputs": [],
   "source": [
    "X, y = mnist[:, 1:], mnist[:, 0]"
   ]
  },
  {
   "cell_type": "code",
   "execution_count": 5,
   "metadata": {},
   "outputs": [],
   "source": [
    "y_oe = (y % 2) == 0 "
   ]
  },
  {
   "cell_type": "code",
   "execution_count": 7,
   "metadata": {},
   "outputs": [],
   "source": [
    "ohe = OneHotEncoder(categories=\"auto\")"
   ]
  },
  {
   "cell_type": "code",
   "execution_count": 8,
   "metadata": {},
   "outputs": [],
   "source": [
    "y_hot = ohe.fit_transform(y.reshape(-1, 1))"
   ]
  },
  {
   "cell_type": "code",
   "execution_count": 9,
   "metadata": {},
   "outputs": [],
   "source": [
    "y_hot_oe = ohe.fit_transform(y_oe.reshape(-1, 1))"
   ]
  },
  {
   "cell_type": "code",
   "execution_count": null,
   "metadata": {},
   "outputs": [],
   "source": []
  },
  {
   "cell_type": "code",
   "execution_count": 27,
   "metadata": {},
   "outputs": [],
   "source": [
    "in_layer = Input((784,))\n",
    "d1 = Dense(400, activation=\"tanh\")(in_layer)\n",
    "d2 = Dense(200, activation=\"tanh\")(d1)\n",
    "d3 = Dense(100, activation=\"tanh\")(d2)\n",
    "d41 = Dense(50, activation=\"tanh\")(d3)\n",
    "d42 = Dense(30, activation=\"tanh\")(d3)\n",
    "o1 = Dense(10, activation=\"softmax\", name=\"out1\")(d41)\n",
    "o2 = Dense(2, activation=\"softmax\", name=\"out2\")(d42)\n"
   ]
  },
  {
   "cell_type": "code",
   "execution_count": 28,
   "metadata": {},
   "outputs": [],
   "source": [
    "model = Model(inputs=[in_layer], outputs=[o1, o2])"
   ]
  },
  {
   "cell_type": "code",
   "execution_count": 29,
   "metadata": {},
   "outputs": [
    {
     "name": "stdout",
     "output_type": "stream",
     "text": [
      "__________________________________________________________________________________________________\n",
      "Layer (type)                    Output Shape         Param #     Connected to                     \n",
      "==================================================================================================\n",
      "input_3 (InputLayer)            (None, 784)          0                                            \n",
      "__________________________________________________________________________________________________\n",
      "dense_15 (Dense)                (None, 400)          314000      input_3[0][0]                    \n",
      "__________________________________________________________________________________________________\n",
      "dense_16 (Dense)                (None, 200)          80200       dense_15[0][0]                   \n",
      "__________________________________________________________________________________________________\n",
      "dense_17 (Dense)                (None, 100)          20100       dense_16[0][0]                   \n",
      "__________________________________________________________________________________________________\n",
      "dense_18 (Dense)                (None, 50)           5050        dense_17[0][0]                   \n",
      "__________________________________________________________________________________________________\n",
      "dense_19 (Dense)                (None, 30)           3030        dense_17[0][0]                   \n",
      "__________________________________________________________________________________________________\n",
      "out1 (Dense)                    (None, 10)           510         dense_18[0][0]                   \n",
      "__________________________________________________________________________________________________\n",
      "out2 (Dense)                    (None, 2)            62          dense_19[0][0]                   \n",
      "==================================================================================================\n",
      "Total params: 422,952\n",
      "Trainable params: 422,952\n",
      "Non-trainable params: 0\n",
      "__________________________________________________________________________________________________\n"
     ]
    }
   ],
   "source": [
    "model.summary()"
   ]
  },
  {
   "cell_type": "code",
   "execution_count": 30,
   "metadata": {},
   "outputs": [],
   "source": [
    "# X_train, X_test, y_train, y_test = train_test_split(\n",
    "# ...     X, y_hot, test_size=0.33, random_state=42)"
   ]
  },
  {
   "cell_type": "code",
   "execution_count": null,
   "metadata": {},
   "outputs": [],
   "source": []
  },
  {
   "cell_type": "code",
   "execution_count": 31,
   "metadata": {},
   "outputs": [],
   "source": [
    "model.compile(optimizer=\"adam\", loss=\"categorical_crossentropy\", metrics=[\"accuracy\"])"
   ]
  },
  {
   "cell_type": "code",
   "execution_count": 32,
   "metadata": {},
   "outputs": [
    {
     "name": "stdout",
     "output_type": "stream",
     "text": [
      "Epoch 1/10\n",
      "19999/19999 [==============================] - 4s 197us/step - loss: 0.8518 - out1_loss: 0.5980 - out2_loss: 0.2539 - out1_acc: 0.8152 - out2_acc: 0.8953\n",
      "Epoch 2/10\n",
      "19999/19999 [==============================] - 3s 159us/step - loss: 0.6546 - out1_loss: 0.4601 - out2_loss: 0.1945 - out1_acc: 0.8515 - out2_acc: 0.9243\n",
      "Epoch 3/10\n",
      "19999/19999 [==============================] - 3s 163us/step - loss: 0.5892 - out1_loss: 0.4157 - out2_loss: 0.1736 - out1_acc: 0.8663 - out2_acc: 0.9349\n",
      "Epoch 4/10\n",
      "19999/19999 [==============================] - 4s 192us/step - loss: 0.5482 - out1_loss: 0.3845 - out2_loss: 0.1638 - out1_acc: 0.8761 - out2_acc: 0.9377\n",
      "Epoch 5/10\n",
      "19999/19999 [==============================] - 4s 206us/step - loss: 0.5394 - out1_loss: 0.3720 - out2_loss: 0.1674 - out1_acc: 0.8797 - out2_acc: 0.9341\n",
      "Epoch 6/10\n",
      "19999/19999 [==============================] - 4s 177us/step - loss: 0.5212 - out1_loss: 0.3598 - out2_loss: 0.1614 - out1_acc: 0.8829 - out2_acc: 0.9380\n",
      "Epoch 7/10\n",
      "19999/19999 [==============================] - 3s 167us/step - loss: 0.4811 - out1_loss: 0.3322 - out2_loss: 0.1489 - out1_acc: 0.8944 - out2_acc: 0.9450\n",
      "Epoch 8/10\n",
      "19999/19999 [==============================] - 3s 166us/step - loss: 0.4376 - out1_loss: 0.3003 - out2_loss: 0.1373 - out1_acc: 0.9044 - out2_acc: 0.9479\n",
      "Epoch 9/10\n",
      "19999/19999 [==============================] - 4s 177us/step - loss: 0.4432 - out1_loss: 0.3082 - out2_loss: 0.1351 - out1_acc: 0.9016 - out2_acc: 0.9498\n",
      "Epoch 10/10\n",
      "19999/19999 [==============================] - 3s 173us/step - loss: 0.4570 - out1_loss: 0.3161 - out2_loss: 0.1409 - out1_acc: 0.9009 - out2_acc: 0.9478\n"
     ]
    },
    {
     "data": {
      "text/plain": [
       "<keras.callbacks.History at 0x138ae1cf8>"
      ]
     },
     "execution_count": 32,
     "metadata": {},
     "output_type": "execute_result"
    }
   ],
   "source": [
    "model.fit(X, [y_hot, y_hot_oe], epochs=10)"
   ]
  },
  {
   "cell_type": "code",
   "execution_count": 33,
   "metadata": {},
   "outputs": [
    {
     "name": "stdout",
     "output_type": "stream",
     "text": [
      "19999/19999 [==============================] - 1s 62us/step\n"
     ]
    },
    {
     "data": {
      "text/plain": [
       "[0.43579668959436835,\n",
       " 0.3075906920775192,\n",
       " 0.1282059982559837,\n",
       " 0.9043452172638434,\n",
       " 0.9515975798342883]"
      ]
     },
     "execution_count": 33,
     "metadata": {},
     "output_type": "execute_result"
    }
   ],
   "source": [
    "model.evaluate(X, [y_hot, y_hot_oe])"
   ]
  },
  {
   "cell_type": "code",
   "execution_count": null,
   "metadata": {},
   "outputs": [],
   "source": []
  },
  {
   "cell_type": "code",
   "execution_count": null,
   "metadata": {},
   "outputs": [],
   "source": []
  },
  {
   "cell_type": "code",
   "execution_count": null,
   "metadata": {},
   "outputs": [],
   "source": []
  },
  {
   "cell_type": "code",
   "execution_count": 44,
   "metadata": {},
   "outputs": [
    {
     "name": "stdout",
     "output_type": "stream",
     "text": [
      "[[6 2 0 7 1 5 9 3 4 8]]\n",
      "[[0 1]]\n"
     ]
    },
    {
     "data": {
      "image/png": "[encoded data removed]",
      "text/plain": [
       "<Figure size 432x288 with 1 Axes>"
      ]
     },
     "metadata": {
      "needs_background": "light"
     },
     "output_type": "display_data"
    }
   ],
   "source": [
    "img = load_img(\"../datasets/nums/four.jpeg\", target_size=(28, 28), grayscale=True)\n",
    "type(img)\n",
    "plane = (np.array(img) < 100).astype(int) * 255\n",
    "plt.imshow(plane, cmap=\"gray\")\n",
    "val, oe = model.predict(np.array([plane.flatten()]))\n",
    "print(val.argsort(axis=1))\n",
    "print(oe.argsort(axis=1))"
   ]
  },
  {
   "cell_type": "code",
   "execution_count": 39,
   "metadata": {},
   "outputs": [
    {
     "name": "stdout",
     "output_type": "stream",
     "text": [
      "[[7 0 1 6 9 4 5 2 3 8]]\n"
     ]
    }
   ],
   "source": []
  },
  {
   "cell_type": "code",
   "execution_count": 40,
   "metadata": {},
   "outputs": [
    {
     "name": "stdout",
     "output_type": "stream",
     "text": [
      "[[1 0]]\n"
     ]
    }
   ],
   "source": []
  },
  {
   "cell_type": "code",
   "execution_count": null,
   "metadata": {},
   "outputs": [],
   "source": []
  }
 ],
 "metadata": {
  "kernelspec": {
   "display_name": "Python 3",
   "language": "python",
   "name": "python3"
  },
  "language_info": {
   "codemirror_mode": {
    "name": "ipython",
    "version": 3
   },
   "file_extension": ".py",
   "mimetype": "text/x-python",
   "name": "python",
   "nbconvert_exporter": "python",
   "pygments_lexer": "ipython3",
   "version": "3.7.2"
  }
 },
 "nbformat": 4,
 "nbformat_minor": 4
}
